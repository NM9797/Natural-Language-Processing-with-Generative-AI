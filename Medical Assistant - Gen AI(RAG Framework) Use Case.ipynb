{
 "cells": [
  {
   "cell_type": "markdown",
   "metadata": {
    "id": "3CNz35ia6Bz3"
   },
   "source": [
    "## Problem Statement"
   ]
  },
  {
   "cell_type": "markdown",
   "metadata": {
    "id": "CkRbhMJH6Bz3"
   },
   "source": [
    "### Business Context"
   ]
  },
  {
   "cell_type": "markdown",
   "metadata": {
    "id": "3PBm5xaj6Bz3"
   },
   "source": [
    "The healthcare industry is rapidly evolving, with professionals facing increasing challenges in managing vast volumes of medical data while delivering accurate and timely diagnoses. The need for quick access to comprehensive, reliable, and up-to-date medical knowledge is critical for improving patient outcomes and ensuring informed decision-making in a fast-paced environment.\n",
    "\n",
    "Healthcare professionals often encounter information overload, struggling to sift through extensive research and data to create accurate diagnoses and treatment plans. This challenge is amplified by the need for efficiency, particularly in emergencies, where time-sensitive decisions are vital. Furthermore, access to trusted, current medical information from renowned manuals and research papers is essential for maintaining high standards of care.\n",
    "\n",
    "To address these challenges, healthcare centers can focus on integrating systems that streamline access to medical knowledge, provide tools to support quick decision-making, and enhance efficiency. Leveraging centralized knowledge platforms and ensuring healthcare providers have continuous access to reliable resources can significantly improve patient care and operational effectiveness."
   ]
  },
  {
   "cell_type": "markdown",
   "metadata": {
    "id": "1xDPsqvO6Bz5"
   },
   "source": [
    "**Common Questions to Answer**\n",
    "\n",
    "**1. Diagnostic Assistance**: \"What are the common symptoms and treatments for pulmonary embolism?\"\n",
    "\n",
    "**2. Drug Information**: \"Can you provide the trade names of medications used for treating hypertension?\"\n",
    "\n",
    "**3. Treatment Plans**: \"What are the first-line options and alternatives for managing rheumatoid arthritis?\"\n",
    "\n",
    "**4. Specialty Knowledge**: \"What are the diagnostic steps for suspected endocrine disorders?\"\n",
    "\n",
    "**5. Critical Care Protocols**: \"What is the protocol for managing sepsis in a critical care unit?\""
   ]
  },
  {
   "cell_type": "markdown",
   "metadata": {
    "id": "CARPKFwm6Bz4"
   },
   "source": [
    "### Objective"
   ]
  },
  {
   "cell_type": "markdown",
   "metadata": {
    "id": "dOElOEXq6Bz4"
   },
   "source": [
    "As an AI specialist, your task is to develop a RAG-based AI solution using renowned medical manuals to address healthcare challenges. The objective is to **understand** issues like information overload, **apply** AI techniques to streamline decision-making, **analyze** its impact on diagnostics and patient outcomes, **evaluate** its potential to standardize care practices, and **create** a functional prototype demonstrating its feasibility and effectiveness."
   ]
  },
  {
   "cell_type": "markdown",
   "metadata": {
    "id": "by9EvAnkSpZf"
   },
   "source": [
    "### Data Description"
   ]
  },
  {
   "cell_type": "markdown",
   "metadata": {
    "id": "Jw5LievCSru2"
   },
   "source": [
    "The **Merck Manuals** are medical references published by the American pharmaceutical company Merck & Co., that cover a wide range of medical topics, including disorders, tests, diagnoses, and drugs. The manuals have been published since 1899, when Merck & Co. was still a subsidiary of the German company Merck.\n",
    "\n",
    "The manual is provided as a PDF with over 4,000 pages divided into 23 sections."
   ]
  },
  {
   "cell_type": "markdown",
   "metadata": {
    "id": "lnwETBOE6Bz5"
   },
   "source": [
    "## Installing and Importing Necessary Libraries and Dependencies"
   ]
  },
  {
   "cell_type": "code",
   "execution_count": 3,
   "metadata": {
    "colab": {
     "base_uri": "https://localhost:8080/"
    },
    "executionInfo": {
     "elapsed": 124025,
     "status": "ok",
     "timestamp": 1754802084739,
     "user": {
      "displayName": "Neha Mishra",
      "userId": "05638810250137303527"
     },
     "user_tz": 300
    },
    "id": "q4GgLhZhUM4V",
    "outputId": "1433f23c-0214-430a-ac76-ab2154887bc3"
   },
   "outputs": [
    {
     "name": "stdout",
     "output_type": "stream",
     "text": [
      "\u001b[?25l     \u001b[90m━━━━━━━━━━━━━━━━━━━━━━━━━━━━━━━━━━━━━━━━\u001b[0m \u001b[32m0.0/1.8 MB\u001b[0m \u001b[31m?\u001b[0m eta \u001b[36m-:--:--\u001b[0m\r\u001b[2K     \u001b[91m━━━━━━━━━━━━━━━━\u001b[0m\u001b[91m╸\u001b[0m\u001b[90m━━━━━━━━━━━━━━━━━━━━━━━\u001b[0m \u001b[32m0.7/1.8 MB\u001b[0m \u001b[31m22.3 MB/s\u001b[0m eta \u001b[36m0:00:01\u001b[0m\r\u001b[2K     \u001b[90m━━━━━━━━━━━━━━━━━━━━━━━━━━━━━━━━━━━━━━━━\u001b[0m \u001b[32m1.8/1.8 MB\u001b[0m \u001b[31m42.6 MB/s\u001b[0m eta \u001b[36m0:00:00\u001b[0m\n",
      "\u001b[?25h  Installing build dependencies ... \u001b[?25l\u001b[?25hdone\n",
      "  Getting requirements to build wheel ... \u001b[?25l\u001b[?25hdone\n",
      "  Preparing metadata (pyproject.toml) ... \u001b[?25l\u001b[?25hdone\n",
      "\u001b[2K     \u001b[90m━━━━━━━━━━━━━━━━━━━━━━━━━━━━━━━━━━━━━━━\u001b[0m \u001b[32m62.1/62.1 kB\u001b[0m \u001b[31m154.2 MB/s\u001b[0m eta \u001b[36m0:00:00\u001b[0m\n",
      "\u001b[2K   \u001b[90m━━━━━━━━━━━━━━━━━━━━━━━━━━━━━━━━━━━━━━━━\u001b[0m \u001b[32m45.5/45.5 kB\u001b[0m \u001b[31m254.0 MB/s\u001b[0m eta \u001b[36m0:00:00\u001b[0m\n",
      "\u001b[2K   \u001b[90m━━━━━━━━━━━━━━━━━━━━━━━━━━━━━━━━━━━━━━━━\u001b[0m \u001b[32m16.9/16.9 MB\u001b[0m \u001b[31m293.3 MB/s\u001b[0m eta \u001b[36m0:00:00\u001b[0m\n",
      "\u001b[2K   \u001b[90m━━━━━━━━━━━━━━━━━━━━━━━━━━━━━━━━━━━━━━━━\u001b[0m \u001b[32m43.9/43.9 kB\u001b[0m \u001b[31m259.9 MB/s\u001b[0m eta \u001b[36m0:00:00\u001b[0m\n",
      "\u001b[?25h  Building wheel for llama-cpp-python (pyproject.toml) ... \u001b[?25l\u001b[?25hdone\n",
      "\u001b[31mERROR: pip's dependency resolver does not currently take into account all the packages that are installed. This behaviour is the source of the following dependency conflicts.\n",
      "langchain-community 0.0.13 requires numpy<2,>=1, but you have numpy 2.3.2 which is incompatible.\n",
      "langchain 0.1.1 requires numpy<2,>=1, but you have numpy 2.3.2 which is incompatible.\n",
      "google-colab 1.0.0 requires pandas==2.2.2, but you have pandas 1.5.3 which is incompatible.\n",
      "xarray 2025.7.1 requires packaging>=24.1, but you have packaging 23.2 which is incompatible.\n",
      "xarray 2025.7.1 requires pandas>=2.2, but you have pandas 1.5.3 which is incompatible.\n",
      "datasets 4.0.0 requires huggingface-hub>=0.24.0, but you have huggingface-hub 0.23.2 which is incompatible.\n",
      "arviz 0.22.0 requires pandas>=2.1.0, but you have pandas 1.5.3 which is incompatible.\n",
      "opencv-contrib-python 4.12.0.88 requires numpy<2.3.0,>=2; python_version >= \"3.9\", but you have numpy 2.3.2 which is incompatible.\n",
      "dask-cudf-cu12 25.6.0 requires pandas<2.2.4dev0,>=2.0, but you have pandas 1.5.3 which is incompatible.\n",
      "numba 0.60.0 requires numpy<2.1,>=1.22, but you have numpy 2.3.2 which is incompatible.\n",
      "plotnine 0.14.5 requires pandas>=2.2.0, but you have pandas 1.5.3 which is incompatible.\n",
      "mizani 0.13.5 requires pandas>=2.2.0, but you have pandas 1.5.3 which is incompatible.\n",
      "opencv-python-headless 4.12.0.88 requires numpy<2.3.0,>=2; python_version >= \"3.9\", but you have numpy 2.3.2 which is incompatible.\n",
      "opencv-python 4.12.0.88 requires numpy<2.3.0,>=2; python_version >= \"3.9\", but you have numpy 2.3.2 which is incompatible.\n",
      "cudf-cu12 25.6.0 requires pandas<2.2.4dev0,>=2.0, but you have pandas 1.5.3 which is incompatible.\n",
      "geopandas 1.1.1 requires pandas>=2.0.0, but you have pandas 1.5.3 which is incompatible.\n",
      "peft 0.17.0 requires huggingface_hub>=0.25.0, but you have huggingface-hub 0.23.2 which is incompatible.\n",
      "gradio 5.41.0 requires huggingface-hub<1.0,>=0.33.5, but you have huggingface-hub 0.23.2 which is incompatible.\n",
      "tensorflow 2.19.0 requires numpy<2.2.0,>=1.26.0, but you have numpy 2.3.2 which is incompatible.\n",
      "diffusers 0.34.0 requires huggingface-hub>=0.27.0, but you have huggingface-hub 0.23.2 which is incompatible.\n",
      "cupy-cuda12x 13.3.0 requires numpy<2.3,>=1.22, but you have numpy 2.3.2 which is incompatible.\n",
      "db-dtypes 1.4.3 requires packaging>=24.2.0, but you have packaging 23.2 which is incompatible.\u001b[0m\u001b[31m\n",
      "\u001b[0m"
     ]
    }
   ],
   "source": [
    "# Installation for GPU llama-cpp-python\n",
    "# uncomment and run the following code in case GPU is being used\n",
    "!CMAKE_ARGS=\"-DLLAMA_CUBLAS=on\" FORCE_CMAKE=1 pip install llama-cpp-python==0.1.85 --force-reinstall --no-cache-dir -q\n",
    "\n",
    "# Installation for CPU llama-cpp-python\n",
    "# uncomment and run the following code in case GPU is not being used\n",
    "# !CMAKE_ARGS=\"-DLLAMA_CUBLAS=off\" FORCE_CMAKE=1 pip install llama-cpp-python==0.1.85 --force-reinstall --no-cache-dir -q"
   ]
  },
  {
   "cell_type": "markdown",
   "metadata": {
    "id": "mDp-EYZH-69E"
   },
   "source": [
    "**Note**:\n",
    "- After running the above cell, kindly restart the runtime (for Google Colab) or notebook kernel (for Jupyter Notebook), and run all cells sequentially from the next cell.\n",
    "- On executing the above line of code, you might see a warning regarding package dependencies. This error message can be ignored as the above code ensures that all necessary libraries and their dependencies are maintained to successfully execute the code in ***this notebook***."
   ]
  },
  {
   "cell_type": "code",
   "execution_count": 1,
   "metadata": {
    "colab": {
     "base_uri": "https://localhost:8080/"
    },
    "executionInfo": {
     "elapsed": 11864,
     "status": "ok",
     "timestamp": 1754802113429,
     "user": {
      "displayName": "Neha Mishra",
      "userId": "05638810250137303527"
     },
     "user_tz": 300
    },
    "id": "0VOckDVkWGei",
    "outputId": "d024ba81-431b-4ae1-e074-5b2e42256297"
   },
   "outputs": [
    {
     "name": "stdout",
     "output_type": "stream",
     "text": [
      "\u001b[31mERROR: pip's dependency resolver does not currently take into account all the packages that are installed. This behaviour is the source of the following dependency conflicts.\n",
      "google-colab 1.0.0 requires pandas==2.2.2, but you have pandas 1.5.3 which is incompatible.\n",
      "xarray 2025.7.1 requires numpy>=1.26, but you have numpy 1.25.2 which is incompatible.\n",
      "xarray 2025.7.1 requires packaging>=24.1, but you have packaging 23.2 which is incompatible.\n",
      "xarray 2025.7.1 requires pandas>=2.2, but you have pandas 1.5.3 which is incompatible.\n",
      "datasets 4.0.0 requires huggingface-hub>=0.24.0, but you have huggingface-hub 0.23.2 which is incompatible.\n",
      "arviz 0.22.0 requires numpy>=1.26.0, but you have numpy 1.25.2 which is incompatible.\n",
      "arviz 0.22.0 requires pandas>=2.1.0, but you have pandas 1.5.3 which is incompatible.\n",
      "opencv-contrib-python 4.12.0.88 requires numpy<2.3.0,>=2; python_version >= \"3.9\", but you have numpy 1.25.2 which is incompatible.\n",
      "dask-cudf-cu12 25.6.0 requires pandas<2.2.4dev0,>=2.0, but you have pandas 1.5.3 which is incompatible.\n",
      "plotnine 0.14.5 requires pandas>=2.2.0, but you have pandas 1.5.3 which is incompatible.\n",
      "mizani 0.13.5 requires pandas>=2.2.0, but you have pandas 1.5.3 which is incompatible.\n",
      "blosc2 3.6.1 requires numpy>=1.26, but you have numpy 1.25.2 which is incompatible.\n",
      "opencv-python-headless 4.12.0.88 requires numpy<2.3.0,>=2; python_version >= \"3.9\", but you have numpy 1.25.2 which is incompatible.\n",
      "opencv-python 4.12.0.88 requires numpy<2.3.0,>=2; python_version >= \"3.9\", but you have numpy 1.25.2 which is incompatible.\n",
      "cudf-cu12 25.6.0 requires pandas<2.2.4dev0,>=2.0, but you have pandas 1.5.3 which is incompatible.\n",
      "geopandas 1.1.1 requires pandas>=2.0.0, but you have pandas 1.5.3 which is incompatible.\n",
      "thinc 8.3.6 requires numpy<3.0.0,>=2.0.0, but you have numpy 1.25.2 which is incompatible.\n",
      "peft 0.17.0 requires huggingface_hub>=0.25.0, but you have huggingface-hub 0.23.2 which is incompatible.\n",
      "gradio 5.41.0 requires huggingface-hub<1.0,>=0.33.5, but you have huggingface-hub 0.23.2 which is incompatible.\n",
      "tensorflow 2.19.0 requires numpy<2.2.0,>=1.26.0, but you have numpy 1.25.2 which is incompatible.\n",
      "diffusers 0.34.0 requires huggingface-hub>=0.27.0, but you have huggingface-hub 0.23.2 which is incompatible.\n",
      "db-dtypes 1.4.3 requires packaging>=24.2.0, but you have packaging 23.2 which is incompatible.\u001b[0m\u001b[31m\n",
      "\u001b[0m"
     ]
    }
   ],
   "source": [
    "# For installing the libraries & downloading models from HF Hub\n",
    "!pip install huggingface_hub==0.23.2 pandas==1.5.3 tiktoken==0.6.0 pymupdf==1.25.1 langchain==0.1.1 langchain-community==0.0.13 chromadb==0.4.22 sentence-transformers==2.3.1 numpy==1.25.2 -q"
   ]
  },
  {
   "cell_type": "code",
   "execution_count": 1,
   "metadata": {
    "colab": {
     "base_uri": "https://localhost:8080/"
    },
    "executionInfo": {
     "elapsed": 6510,
     "status": "ok",
     "timestamp": 1754802128257,
     "user": {
      "displayName": "Neha Mishra",
      "userId": "05638810250137303527"
     },
     "user_tz": 300
    },
    "id": "y3cxv2z-WK6B",
    "outputId": "c1915341-b0ea-4490-9131-6667a807db0d"
   },
   "outputs": [
    {
     "name": "stdout",
     "output_type": "stream",
     "text": [
      "Requirement already satisfied: posthog<6.0.0 in /usr/local/lib/python3.11/dist-packages (5.4.0)\n",
      "Requirement already satisfied: requests<3.0,>=2.7 in /usr/local/lib/python3.11/dist-packages (from posthog<6.0.0) (2.32.3)\n",
      "Requirement already satisfied: six>=1.5 in /usr/local/lib/python3.11/dist-packages (from posthog<6.0.0) (1.17.0)\n",
      "Requirement already satisfied: python-dateutil>=2.2 in /usr/local/lib/python3.11/dist-packages (from posthog<6.0.0) (2.9.0.post0)\n",
      "Requirement already satisfied: backoff>=1.10.0 in /usr/local/lib/python3.11/dist-packages (from posthog<6.0.0) (2.2.1)\n",
      "Requirement already satisfied: distro>=1.5.0 in /usr/local/lib/python3.11/dist-packages (from posthog<6.0.0) (1.9.0)\n",
      "Requirement already satisfied: charset-normalizer<4,>=2 in /usr/local/lib/python3.11/dist-packages (from requests<3.0,>=2.7->posthog<6.0.0) (3.4.2)\n",
      "Requirement already satisfied: idna<4,>=2.5 in /usr/local/lib/python3.11/dist-packages (from requests<3.0,>=2.7->posthog<6.0.0) (3.10)\n",
      "Requirement already satisfied: urllib3<3,>=1.21.1 in /usr/local/lib/python3.11/dist-packages (from requests<3.0,>=2.7->posthog<6.0.0) (2.5.0)\n",
      "Requirement already satisfied: certifi>=2017.4.17 in /usr/local/lib/python3.11/dist-packages (from requests<3.0,>=2.7->posthog<6.0.0) (2025.8.3)\n"
     ]
    }
   ],
   "source": [
    "pip install 'posthog<6.0.0'"
   ]
  },
  {
   "cell_type": "markdown",
   "metadata": {
    "id": "y2EEYodpoUhW"
   },
   "source": [
    "**Note**:\n",
    "- After running the above cell, kindly restart the runtime (for Google Colab) or notebook kernel (for Jupyter Notebook), and run all cells sequentially from the next cell.\n",
    "- On executing the above line of code, you might see a warning regarding package dependencies. This error message can be ignored as the above code ensures that all necessary libraries and their dependencies are maintained to successfully execute the code in ***this notebook***."
   ]
  },
  {
   "cell_type": "code",
   "execution_count": 1,
   "metadata": {
    "executionInfo": {
     "elapsed": 1374,
     "status": "ok",
     "timestamp": 1754802138205,
     "user": {
      "displayName": "Neha Mishra",
      "userId": "05638810250137303527"
     },
     "user_tz": 300
    },
    "id": "RTY9GN4oWK3g"
   },
   "outputs": [],
   "source": [
    "#Libraries for downloading and loading the llm\n",
    "from huggingface_hub import hf_hub_download\n",
    "from llama_cpp import Llama"
   ]
  },
  {
   "cell_type": "markdown",
   "metadata": {
    "id": "TtZWqj0wFTS1"
   },
   "source": [
    "## Question Answering using LLM"
   ]
  },
  {
   "cell_type": "markdown",
   "metadata": {
    "id": "EzzkvIXvFTS4"
   },
   "source": [
    "#### Response"
   ]
  },
  {
   "cell_type": "code",
   "execution_count": 2,
   "metadata": {
    "colab": {
     "base_uri": "https://localhost:8080/"
    },
    "executionInfo": {
     "elapsed": 565,
     "status": "ok",
     "timestamp": 1754802141848,
     "user": {
      "displayName": "Neha Mishra",
      "userId": "05638810250137303527"
     },
     "user_tz": 300
    },
    "id": "PVFKem0ls9-e",
    "outputId": "ba1d0228-3626-43a7-b32d-5f24c7059e7e"
   },
   "outputs": [
    {
     "name": "stderr",
     "output_type": "stream",
     "text": [
      "/usr/local/lib/python3.11/dist-packages/huggingface_hub/utils/_token.py:89: UserWarning: \n",
      "The secret `HF_TOKEN` does not exist in your Colab secrets.\n",
      "To authenticate with the Hugging Face Hub, create a token in your settings tab (https://huggingface.co/settings/tokens), set it as secret in your Google Colab and restart your session.\n",
      "You will be able to reuse this secret in all of your notebooks.\n",
      "Please note that authentication is recommended but still optional to access public models or datasets.\n",
      "  warnings.warn(\n"
     ]
    }
   ],
   "source": [
    "## Model configuration\n",
    "#model_name_or_path = \"TheBloke/Llama-2-13B-chat-GGUF\"\n",
    "#model_basename = \"llama-2-13b-chat.Q5_K_M.gguf\"\n",
    "\n",
    "model_name_or_path = \"TheBloke/Mistral-7B-Instruct-v0.2-GGUF\"\n",
    "model_basename = \"mistral-7b-instruct-v0.2.Q6_K.gguf\"\n",
    "\n",
    "\n",
    "model_path = hf_hub_download(\n",
    "    repo_id=model_name_or_path,\n",
    "    filename=model_basename\n",
    "    )"
   ]
  },
  {
   "cell_type": "code",
   "execution_count": 3,
   "metadata": {
    "colab": {
     "base_uri": "https://localhost:8080/"
    },
    "executionInfo": {
     "elapsed": 16289,
     "status": "ok",
     "timestamp": 1754802160754,
     "user": {
      "displayName": "Neha Mishra",
      "userId": "05638810250137303527"
     },
     "user_tz": 300
    },
    "id": "FvQfcf3Mx8Ky",
    "outputId": "751b04f9-4c81-4d49-b640-5dec86c8e3aa"
   },
   "outputs": [
    {
     "name": "stderr",
     "output_type": "stream",
     "text": [
      "AVX = 1 | AVX2 = 1 | AVX512 = 0 | AVX512_VBMI = 0 | AVX512_VNNI = 0 | FMA = 1 | NEON = 0 | ARM_FMA = 0 | F16C = 1 | FP16_VA = 0 | WASM_SIMD = 0 | BLAS = 1 | SSE3 = 1 | SSSE3 = 1 | VSX = 0 | \n"
     ]
    }
   ],
   "source": [
    "llm = Llama(\n",
    "    model_path=model_path,\n",
    "    n_threads=2,\n",
    "    n_batch=256,\n",
    "    n_gpu_layers=32,\n",
    "    n_ctx=4096,\n",
    ")"
   ]
  },
  {
   "cell_type": "code",
   "execution_count": 4,
   "metadata": {
    "executionInfo": {
     "elapsed": 24,
     "status": "ok",
     "timestamp": 1754802162527,
     "user": {
      "displayName": "Neha Mishra",
      "userId": "05638810250137303527"
     },
     "user_tz": 300
    },
    "id": "hG_IaZj0QLw4"
   },
   "outputs": [],
   "source": [
    "def response(query,max_tokens=128,temperature=0,top_p=0.95,top_k=50):\n",
    "    model_output = llm(\n",
    "      prompt=query,\n",
    "      max_tokens=max_tokens,\n",
    "      temperature=temperature,\n",
    "      top_p=top_p,\n",
    "      top_k=top_k\n",
    "    )\n",
    "\n",
    "    return model_output['choices'][0]['text']"
   ]
  },
  {
   "cell_type": "markdown",
   "metadata": {
    "id": "K8YgK91SFjVY"
   },
   "source": [
    "### Query 1: What is the protocol for managing sepsis in a critical care unit?"
   ]
  },
  {
   "cell_type": "code",
   "execution_count": 5,
   "metadata": {
    "colab": {
     "base_uri": "https://localhost:8080/",
     "height": 70
    },
    "executionInfo": {
     "elapsed": 8342,
     "status": "ok",
     "timestamp": 1754802242669,
     "user": {
      "displayName": "Neha Mishra",
      "userId": "05638810250137303527"
     },
     "user_tz": 300
    },
    "id": "-JLIVmpPQH0f",
    "outputId": "ab2b31e5-ac31-4d24-aefb-54c5aa9ddfd2"
   },
   "outputs": [
    {
     "data": {
      "application/vnd.google.colaboratory.intrinsic+json": {
       "type": "string"
      },
      "text/plain": [
       "'\\n\\nSepsis is a life-threatening condition that can arise from an infection, and it requires prompt recognition and aggressive management in a critical care unit. The following are general steps for managing sepsis in a critical care unit:\\n\\n1. Early recognition: Recognize the signs and symptoms of sepsis early and initiate treatment as soon as possible. Sepsis can present with various clinical features, including fever or hypothermia, tachycardia or bradycardia, altered mental status, respiratory distress, and lactic acidosis.\\n2. Source control'"
      ]
     },
     "execution_count": 5,
     "metadata": {},
     "output_type": "execute_result"
    }
   ],
   "source": [
    "user_prompt = \"What is the protocol for managing sepsis in a critical care unit?\"\n",
    "response(user_prompt)\n"
   ]
  },
  {
   "cell_type": "code",
   "execution_count": 6,
   "metadata": {
    "colab": {
     "base_uri": "https://localhost:8080/",
     "height": 105
    },
    "executionInfo": {
     "elapsed": 19001,
     "status": "ok",
     "timestamp": 1754802263858,
     "user": {
      "displayName": "Neha Mishra",
      "userId": "05638810250137303527"
     },
     "user_tz": 300
    },
    "id": "paXbNoZTJ6JW",
    "outputId": "b8acbad2-74ce-4fe5-e91c-093019d314cc"
   },
   "outputs": [
    {
     "name": "stderr",
     "output_type": "stream",
     "text": [
      "Llama.generate: prefix-match hit\n"
     ]
    },
    {
     "data": {
      "application/vnd.google.colaboratory.intrinsic+json": {
       "type": "string"
      },
      "text/plain": [
       "'\\n\\nSepsis is a life-threatening condition that can arise from an infection, and it requires prompt recognition and aggressive management in a critical care unit. The following are general steps for managing sepsis in a critical care unit:\\n\\n1. Early recognition: Recognize the signs and symptoms of sepsis early and initiate treatment as soon as possible. Sepsis can present with various clinical features, including fever or hypothermia, tachycardia or bradycardia, altered mental status, respiratory distress, and lactic acidosis.\\n2. Source control: Identify and address the source of infection as quickly as possible. This may involve surgical intervention, such as drainage of an abscess or debridement of necrotic tissue.\\n3. Fluid resuscitation: Administer intravenous fluids to maintain adequate blood pressure and organ perfusion. The goal is to achieve a mean arterial pressure (MAP) of at least 65 mmHg and a central venous oxygen saturation (ScvO2) of greater than 70%.\\n4. Antibiotics: Administer broad-spectrum antibiotics'"
      ]
     },
     "execution_count": 6,
     "metadata": {},
     "output_type": "execute_result"
    }
   ],
   "source": [
    "response(user_prompt, max_tokens=256)"
   ]
  },
  {
   "cell_type": "markdown",
   "metadata": {
    "id": "J6yxICeVFjVc"
   },
   "source": [
    "### Query 2: What are the common symptoms for appendicitis, and can it be cured via medicine? If not, what surgical procedure should be followed to treat it?"
   ]
  },
  {
   "cell_type": "code",
   "execution_count": 7,
   "metadata": {
    "colab": {
     "base_uri": "https://localhost:8080/",
     "height": 87
    },
    "executionInfo": {
     "elapsed": 9994,
     "status": "ok",
     "timestamp": 1754802279275,
     "user": {
      "displayName": "Neha Mishra",
      "userId": "05638810250137303527"
     },
     "user_tz": 300
    },
    "id": "UFdeORUPJY87",
    "outputId": "3bf761c6-3d6e-4a3d-cb07-3c906e873d8d"
   },
   "outputs": [
    {
     "name": "stderr",
     "output_type": "stream",
     "text": [
      "Llama.generate: prefix-match hit\n"
     ]
    },
    {
     "data": {
      "application/vnd.google.colaboratory.intrinsic+json": {
       "type": "string"
      },
      "text/plain": [
       "'\\n\\nAppendicitis is a medical condition characterized by inflammation of the appendix, a small pouch-like structure that extends from the large intestine. The symptoms of appendicitis can vary from person to person, but some common signs include:\\n\\n1. Abdominal pain: The pain is typically located in the lower right side of the abdomen and may be constant or come and go. It may start as a mild discomfort that worsens over time.\\n2. Loss of appetite: People with appendicitis often lose their appetite due to abdominal pain and nausea'"
      ]
     },
     "execution_count": 7,
     "metadata": {},
     "output_type": "execute_result"
    }
   ],
   "source": [
    "user_prompt2 = \"What are the common symptoms for appendicitis, and can it be cured via medicine? If not, what surgical procedure should be followed to treat it?\"\n",
    "response(user_prompt2)"
   ]
  },
  {
   "cell_type": "markdown",
   "metadata": {
    "id": "oflaoOGiFjVd"
   },
   "source": [
    "### Query 3: What are the effective treatments or solutions for addressing sudden patchy hair loss, commonly seen as localized bald spots on the scalp, and what could be the possible causes behind it?"
   ]
  },
  {
   "cell_type": "code",
   "execution_count": 8,
   "metadata": {
    "colab": {
     "base_uri": "https://localhost:8080/",
     "height": 70
    },
    "executionInfo": {
     "elapsed": 11207,
     "status": "ok",
     "timestamp": 1754802292342,
     "user": {
      "displayName": "Neha Mishra",
      "userId": "05638810250137303527"
     },
     "user_tz": 300
    },
    "id": "N-mx9yboQIt-",
    "outputId": "a612dd3e-5efb-4686-93df-e60edeb057c4"
   },
   "outputs": [
    {
     "name": "stderr",
     "output_type": "stream",
     "text": [
      "Llama.generate: prefix-match hit\n"
     ]
    },
    {
     "data": {
      "application/vnd.google.colaboratory.intrinsic+json": {
       "type": "string"
      },
      "text/plain": [
       "\"\\n\\nSudden patchy hair loss, also known as alopecia areata, is a common autoimmune disorder that affects the hair follicles. It can result in round or oval bald patches on the scalp, but it can also occur on other parts of the body such as the beard area, eyebrows, and eyelashes.\\n\\nThe exact cause of alopecia areata is not known, but it's believed to be related to a problem with the immune system. Some possible triggers for this condition include stress, genetics, viral infections, and certain medications.\""
      ]
     },
     "execution_count": 8,
     "metadata": {},
     "output_type": "execute_result"
    }
   ],
   "source": [
    "user_prompt3 = \"What are the effective treatments or solutions for addressing sudden patchy hair loss, commonly seen as localized bald spots on the scalp, and what could be the possible causes behind it?\"\n",
    "response(user_prompt3)"
   ]
  },
  {
   "cell_type": "code",
   "execution_count": 9,
   "metadata": {
    "colab": {
     "base_uri": "https://localhost:8080/",
     "height": 87
    },
    "executionInfo": {
     "elapsed": 10762,
     "status": "ok",
     "timestamp": 1754802304813,
     "user": {
      "displayName": "Neha Mishra",
      "userId": "05638810250137303527"
     },
     "user_tz": 300
    },
    "id": "t26JZbMKKzfw",
    "outputId": "aac65838-c99f-46b2-a5df-2c38ed04dacf"
   },
   "outputs": [
    {
     "name": "stderr",
     "output_type": "stream",
     "text": [
      "Llama.generate: prefix-match hit\n"
     ]
    },
    {
     "data": {
      "application/vnd.google.colaboratory.intrinsic+json": {
       "type": "string"
      },
      "text/plain": [
       "'\\n\\nSudden patchy hair loss, also known as alopecia areata, is a common autoimmune disorder that affects the hair follicles, leading to hair loss in small patches on the scalp or other parts of the body. The exact cause of alopecia areata is not fully understood, but it is believed to be related to a dysfunction in the immune system.\\n\\nThere is currently no cure for alopecia areata, but there are various treatments that can help promote hair regrowth and prevent further hair loss:\\n\\n1. Topical corticosteroids'"
      ]
     },
     "execution_count": 9,
     "metadata": {},
     "output_type": "execute_result"
    }
   ],
   "source": [
    "response(user_prompt3, temperature=0.9)"
   ]
  },
  {
   "cell_type": "markdown",
   "metadata": {
    "id": "WUUqY4FbFjVe"
   },
   "source": [
    "### Query 4:  What treatments are recommended for a person who has sustained a physical injury to brain tissue, resulting in temporary or permanent impairment of brain function?"
   ]
  },
  {
   "cell_type": "code",
   "execution_count": 10,
   "metadata": {
    "colab": {
     "base_uri": "https://localhost:8080/"
    },
    "executionInfo": {
     "elapsed": 9122,
     "status": "ok",
     "timestamp": 1754802320271,
     "user": {
      "displayName": "Neha Mishra",
      "userId": "05638810250137303527"
     },
     "user_tz": 300
    },
    "id": "TEsVMaKaQJzh",
    "outputId": "7c067bc4-2605-40b3-efe3-83a4732fcc66"
   },
   "outputs": [
    {
     "name": "stderr",
     "output_type": "stream",
     "text": [
      "Llama.generate: prefix-match hit\n"
     ]
    },
    {
     "name": "stdout",
     "output_type": "stream",
     "text": [
      "\n",
      "\n",
      "A person who has sustained a physical injury to the brain tissue may require various treatments depending on the severity and location of the injury. Here are some common treatments that may be recommended:\n",
      "\n",
      "1. Emergency care: In case of a traumatic brain injury (TBI), it is essential to seek emergency medical attention as soon as possible. The primary goal of emergency care is to prevent further damage to the brain, stabilize vital signs, and manage any life-threatening conditions.\n",
      "2. Medications: Depending on the symptoms, healthcare professionals may prescribe medications to manage various conditions associated with a\n"
     ]
    }
   ],
   "source": [
    "user_prompt4 = \"What treatments are recommended for a person who has sustained a physical injury to brain tissue, resulting in temporary or permanent impairment of brain function?\"\n",
    "response4 = response(user_prompt4)\n",
    "print(response4)"
   ]
  },
  {
   "cell_type": "code",
   "execution_count": 11,
   "metadata": {
    "colab": {
     "base_uri": "https://localhost:8080/"
    },
    "executionInfo": {
     "elapsed": 22977,
     "status": "ok",
     "timestamp": 1754802346501,
     "user": {
      "displayName": "Neha Mishra",
      "userId": "05638810250137303527"
     },
     "user_tz": 300
    },
    "id": "RGMkxjzFLlNX",
    "outputId": "1510853f-8b33-46f0-c1bb-c3ee01a481c2"
   },
   "outputs": [
    {
     "name": "stderr",
     "output_type": "stream",
     "text": [
      "Llama.generate: prefix-match hit\n"
     ]
    }
   ],
   "source": [
    "user_prompt4 = \"What treatments are recommended for a person who has sustained a physical injury to brain tissue, resulting in temporary or permanent impairment of brain function?\"\n",
    "response4 = response(user_prompt4, max_tokens=256)"
   ]
  },
  {
   "cell_type": "markdown",
   "metadata": {
    "id": "5laPFTHrFjVf"
   },
   "source": [
    "### Query 5: What are the necessary precautions and treatment steps for a person who has fractured their leg during a hiking trip, and what should be considered for their care and recovery?"
   ]
  },
  {
   "cell_type": "code",
   "execution_count": 12,
   "metadata": {
    "colab": {
     "base_uri": "https://localhost:8080/"
    },
    "executionInfo": {
     "elapsed": 12028,
     "status": "ok",
     "timestamp": 1754802361145,
     "user": {
      "displayName": "Neha Mishra",
      "userId": "05638810250137303527"
     },
     "user_tz": 300
    },
    "id": "VfrlmrP5QKJz",
    "outputId": "594dcd9c-3ce8-441c-ca3b-d48cc6ce586f"
   },
   "outputs": [
    {
     "name": "stderr",
     "output_type": "stream",
     "text": [
      "Llama.generate: prefix-match hit\n"
     ]
    },
    {
     "name": "stdout",
     "output_type": "stream",
     "text": [
      "\n",
      "\n",
      "First and foremost, if you suspect that someone has fractured their leg while hiking, it's essential to ensure their safety and prevent further injury. Here are some necessary precautions:\n",
      "\n",
      "1. Keep the person calm and still: Encourage them to remain as still as possible to minimize pain and prevent worsening the injury.\n",
      "2. Assess the situation: Check for any signs of shock, such as pale skin, rapid heartbeat, or shallow breathing. If you notice these symptoms, seek medical help immediately.\n",
      "3. Immobilize the leg: Use a splint, sl\n"
     ]
    }
   ],
   "source": [
    "user_prompt5 = \"What are the necessary precautions and treatment steps for a person who has fractured their leg during a hiking trip, and what should be considered for their care and recovery?\"\n",
    "response5 = response(user_prompt5)\n",
    "print(response5)"
   ]
  },
  {
   "cell_type": "markdown",
   "metadata": {
    "id": "g5myZ5dOOefc"
   },
   "source": [
    "## Question Answering using LLM with Prompt Engineering"
   ]
  },
  {
   "cell_type": "code",
   "execution_count": 13,
   "metadata": {
    "executionInfo": {
     "elapsed": 36,
     "status": "ok",
     "timestamp": 1754802374054,
     "user": {
      "displayName": "Neha Mishra",
      "userId": "05638810250137303527"
     },
     "user_tz": 300
    },
    "id": "ZVADRAOnyuvH"
   },
   "outputs": [],
   "source": [
    "# function to generate, process, and return the response from the LLM\n",
    "def generate_llama_response(user_prompt, max_tokens=128,temperature=0,top_p=0.95,top_k=50, repeat_penalty=1.2):\n",
    "\n",
    "    # System message\n",
    "    system_message = \"\"\"\n",
    "    [INST]<<SYS>> Respond to the user question based on the user prompt. Keep the answers precise backed with medical facts. Focus on the medical condition asked and avoid generic terms.<</SYS>>[/INST]\n",
    "    \"\"\"\n",
    "\n",
    "    # Combine user_prompt and system_message to create the prompt\n",
    "    prompt = f\"{user_prompt}\\n{system_message}\"\n",
    "\n",
    "    # Generate a response from the LLaMA model\n",
    "    response = llm(\n",
    "        prompt=prompt,\n",
    "        max_tokens=max_tokens,\n",
    "        temperature=temperature,\n",
    "        top_p=top_p,\n",
    "        repeat_penalty=repeat_penalty,\n",
    "        top_k=top_k,\n",
    "        stop=['INST'],\n",
    "        echo=False\n",
    "    )\n",
    "\n",
    "    # Extract and return the response text\n",
    "    response_text = response[\"choices\"][0][\"text\"]\n",
    "    return response_text"
   ]
  },
  {
   "cell_type": "markdown",
   "metadata": {
    "id": "9Jg3r_LWOeff"
   },
   "source": [
    "### Query 1: What is the protocol for managing sepsis in a critical care unit?"
   ]
  },
  {
   "cell_type": "code",
   "execution_count": 14,
   "metadata": {
    "colab": {
     "base_uri": "https://localhost:8080/"
    },
    "executionInfo": {
     "elapsed": 48479,
     "status": "ok",
     "timestamp": 1754802425798,
     "user": {
      "displayName": "Neha Mishra",
      "userId": "05638810250137303527"
     },
     "user_tz": 300
    },
    "id": "YqM4VMw5ROhX",
    "outputId": "2d54aed3-d945-4f4e-a762-300f73255770"
   },
   "outputs": [
    {
     "name": "stderr",
     "output_type": "stream",
     "text": [
      "Llama.generate: prefix-match hit\n"
     ]
    },
    {
     "name": "stdout",
     "output_type": "stream",
     "text": [
      "1. Recognition: Early recognition of sepsis is crucial. Look for signs of infection, organ dysfunction (using Sequential [Sepsis-related] Organ Failure Assessment or SOFA score), and suspected infection in the medical history.\n",
      "\n",
      "2. Resuscitation: Initiate fluid resuscitation to maintain adequate tissue perfusion. Aim for a mean arterial pressure ≥65 mmHg and central venous oxygen saturation >70%.\n",
      "\n",
      "3. Antibiotics: Administer broad-spectrum antibiotics as soon as possible based on the suspected infection source, culture results if available, and local guidelines.\n",
      "\n",
      "4. Source control: Address the underlying cause of sepsis by performing appropriate interventions such as drainage of abscesses or debridement of necrotic tissue.\n",
      "\n",
      "5. Vasopressors: If fluid resuscitation fails to maintain adequate blood pressure, administer vasopressors to support circulation.\n",
      "\n",
      "6. Corticosteroids: Consider using corticosteroids in cases of septic shock that do not respond to initial therapy within 1 hour.\n",
      "\n",
      "7. Inotropes and mechanical ventilation: Provide additional support with inotropic agents or mechanical ventilation if needed for cardiac or respiratory failure.\n",
      "\n",
      "8. Fluid management: Monitor fluid balance closely, aiming for a neutral or slight negative daily fluid balance to minimize edema and improve organ function.\n",
      "\n",
      "9. Electrolyte replacement: Replace electrolytes as necessary due to diuretic therapy, vomiting, or other causes of electrolyte imbalance.\n",
      "\n",
      "10. Nutritional support: Provide adequate nutrition through enteral feeding if possible; parenteral nutrition may be required in some cases.\n",
      "\n",
      "11. Hemodialysis and other renal replacement therapies: Consider these options for patients with severe sepsis or septic shock who have persistent organ dysfunction despite appropriate resuscitation efforts.\n",
      "\n",
      "12. Monitoring: Continuously monitor vital signs, laboratory values (including lactate levels), urine output, and oxygenation status to assess response to treatment and identify complications early.\n",
      "\n",
      "13. Prevention of secondary infections: Maintain strict infection control practices, including hand hygiene, use of personal protective equipment, and appropriate isolation precautions for patients with known\n"
     ]
    }
   ],
   "source": [
    "user_prompt = \"What is the protocol for managing sepsis in a critical care unit?\"\n",
    "response = generate_llama_response(user_prompt, max_tokens=512)\n",
    "print(response)"
   ]
  },
  {
   "cell_type": "markdown",
   "metadata": {
    "id": "iYpyw4HjOeff"
   },
   "source": [
    "### Query 2: What are the common symptoms for appendicitis, and can it be cured via medicine? If not, what surgical procedure should be followed to treat it?"
   ]
  },
  {
   "cell_type": "code",
   "execution_count": 15,
   "metadata": {
    "colab": {
     "base_uri": "https://localhost:8080/"
    },
    "executionInfo": {
     "elapsed": 11410,
     "status": "ok",
     "timestamp": 1754802452668,
     "user": {
      "displayName": "Neha Mishra",
      "userId": "05638810250137303527"
     },
     "user_tz": 300
    },
    "id": "GXl09pFfRPBr",
    "outputId": "36c52577-74e5-4e04-9477-8dbbb519c080"
   },
   "outputs": [
    {
     "name": "stderr",
     "output_type": "stream",
     "text": [
      "Llama.generate: prefix-match hit\n"
     ]
    },
    {
     "name": "stdout",
     "output_type": "stream",
     "text": [
      " Appendicitis is a common inflammatory condition of the appendix, a small pouch that extends from the cecum (the beginning of the large intestine). The following are some common symptoms for appendicitis:\n",
      "\n",
      "1. Abdominal pain: This is usually located in the lower right side of the abdomen and may be constant or come and go. It can feel sharp, dull, or crampy and worsens with movement or pressure on the area.\n",
      "2. Loss of appetite: People with appendicitis often lose their appetite due to abdominal pain and discomfort\n"
     ]
    }
   ],
   "source": [
    "user_prompt2 = \"What are the common symptoms for appendicitis, and can it be cured via medicine? If not, what surgical procedure should be followed to treat it?\"\n",
    "response2 = generate_llama_response(user_prompt2, max_tokens=128)\n",
    "print(response2)"
   ]
  },
  {
   "cell_type": "markdown",
   "metadata": {
    "id": "dRp92JQZOeff"
   },
   "source": [
    "### Query 3: What are the effective treatments or solutions for addressing sudden patchy hair loss, commonly seen as localized bald spots on the scalp, and what could be the possible causes behind it?"
   ]
  },
  {
   "cell_type": "code",
   "execution_count": 16,
   "metadata": {
    "colab": {
     "base_uri": "https://localhost:8080/"
    },
    "executionInfo": {
     "elapsed": 14128,
     "status": "ok",
     "timestamp": 1754802472451,
     "user": {
      "displayName": "Neha Mishra",
      "userId": "05638810250137303527"
     },
     "user_tz": 300
    },
    "id": "JOgATEpMRPve",
    "outputId": "12be1e08-fc90-4078-d253-3052d40c7451"
   },
   "outputs": [
    {
     "name": "stderr",
     "output_type": "stream",
     "text": [
      "Llama.generate: prefix-match hit\n"
     ]
    },
    {
     "name": "stdout",
     "output_type": "stream",
     "text": [
      "There are several potential causes for sudden, patchy hair loss. Some common conditions that may lead to localized bald spots include:\n",
      "\n",
      "1. Alopecia Areata: This is an autoimmune disease where your immune system attacks the hair follicles, causing hair loss in round patches on the scalp, beard, or other areas of the body. According to Mayo Clinic, about 6 million people in the United States have alopecia areata.\n",
      "2. Tinea Capitis: Also known as ringworm of the scalp, it is a fungal infection that can cause hair\n"
     ]
    }
   ],
   "source": [
    "user_prompt3 = \"What are the effective treatments or solutions for addressing sudden patchy hair loss, commonly seen as localized bald spots on the scalp, and what could be the possible causes behind it?\"\n",
    "response3 = generate_llama_response(user_prompt3,temperature=0.9)\n",
    "print(response3)"
   ]
  },
  {
   "cell_type": "code",
   "execution_count": 17,
   "metadata": {
    "colab": {
     "base_uri": "https://localhost:8080/"
    },
    "executionInfo": {
     "elapsed": 40717,
     "status": "ok",
     "timestamp": 1754802531509,
     "user": {
      "displayName": "Neha Mishra",
      "userId": "05638810250137303527"
     },
     "user_tz": 300
    },
    "id": "VpiEV6yXP2DJ",
    "outputId": "6501a703-1e27-4845-f5b1-c1ab4f1abdfc"
   },
   "outputs": [
    {
     "name": "stderr",
     "output_type": "stream",
     "text": [
      "Llama.generate: prefix-match hit\n"
     ]
    },
    {
     "name": "stdout",
     "output_type": "stream",
     "text": [
      "1. Causes of Sudden Patchy Hair Loss:\n",
      "       a) Alopecia Areata: This is an autoimmune disorder where your immune system attacks hair follicles, leading to sudden hair loss in small patches on the scalp or other areas of the body. It can affect people of all ages and ethnicities.\n",
      "       b) Trauma or Stress: Physical trauma, emotional stress, or surgery may cause temporary hair loss known as telogen effluvium. This condition results from an increased number of hairs entering the resting phase (telogen), which leads to shedding.\n",
      "       c) Fungal Infections: Scalp infections caused by fungi like ringworm can lead to patchy hair loss, redness, itching, and scaling on the scalp.\n",
      "       d) Nutritional Deficiencies: Lack of essential nutrients such as iron, zinc, or vitamin B12 may cause sudden hair loss in patches.\n",
      "    2. Treatments for Sudden Patchy Hair Loss:\n",
      "       a) Alopecia Areata: Topical treatments like minoxidil and corticosteroids can help stimulate hair growth. In severe cases, systemic medications or immunotherapy may be recommended to suppress the immune response.\n",
      "       b) Trauma or Stress-induced Hair Loss: The condition usually resolves on its own within a few months as your body recovers from stressors. However, maintaining good overall health and reducing stress levels can help speed up recovery.\n",
      "       c) Fungal Infections: Antifungal medications like ketoconazole or griseofulvin may be prescribed to treat fungal infections causing patchy hair loss. Topical treatments are often used for mild cases, while oral medication is recommended for more severe ones.\n",
      "       d) Nutritional Deficiencies: Addressing the underlying nutrient deficiency through dietary changes or supplements can help promote healthy hair growth and prevent further hair loss in patches. Consult a healthcare professional to determine the specific cause of your deficiency and appropriate treatment options.\n"
     ]
    }
   ],
   "source": [
    "response3 = generate_llama_response(user_prompt3, max_tokens=512)\n",
    "print(response3)"
   ]
  },
  {
   "cell_type": "markdown",
   "metadata": {
    "id": "AA45zwyUOefg"
   },
   "source": [
    "### Query 4:  What treatments are recommended for a person who has sustained a physical injury to brain tissue, resulting in temporary or permanent impairment of brain function?"
   ]
  },
  {
   "cell_type": "code",
   "execution_count": 18,
   "metadata": {
    "colab": {
     "base_uri": "https://localhost:8080/"
    },
    "executionInfo": {
     "elapsed": 22909,
     "status": "ok",
     "timestamp": 1754802559446,
     "user": {
      "displayName": "Neha Mishra",
      "userId": "05638810250137303527"
     },
     "user_tz": 300
    },
    "id": "VA7G8FOnRQZY",
    "outputId": "7f298492-1726-4909-a9e3-418053d8be45"
   },
   "outputs": [
    {
     "name": "stderr",
     "output_type": "stream",
     "text": [
      "Llama.generate: prefix-match hit\n"
     ]
    },
    {
     "name": "stdout",
     "output_type": "stream",
     "text": [
      "For a person who has sustained a physical injury to brain tissue, resulting in temporary or permanent impairment of brain function, also known as a traumatic brain injury (TBI), treatment may include:\n",
      "\n",
      "1. Emergency care: This includes managing airway and breathing, controlling bleeding, preventing infection, and addressing any life-threatening conditions.\n",
      "2. Medications: Depending on the specific symptoms of the TBI, medications may be prescribed to manage pain, reduce swelling or inflammation in the brain, prevent seizures, or control other medical conditions.\n",
      "3. Surgery: In some cases, surgery may be necessary to remove blood clots or repair skull fractures that could worsen brain damage or lead to further complications.\n",
      "4. Rehabilitation: This includes physical therapy, occupational therapy, speech and language therapy, cognitive rehabilitation, and social support services to help the person regain lost skills and adapt to any permanent impairments.\n",
      "5. Assistive devices: Depending on the severity of the injury, assistive devices such as wheelchairs, braces, or communication aids may be necessary to help the person function independently.\n",
      "6. Lifestyle\n"
     ]
    }
   ],
   "source": [
    "user_prompt4 = \"What treatments are recommended for a person who has sustained a physical injury to brain tissue, resulting in temporary or permanent impairment of brain function?\"\n",
    "response4 = generate_llama_response(user_prompt4, max_tokens=256)\n",
    "print(response4)"
   ]
  },
  {
   "cell_type": "markdown",
   "metadata": {
    "id": "TYXxiSuBOefg"
   },
   "source": [
    "### Query 5: What are the necessary precautions and treatment steps for a person who has fractured their leg during a hiking trip, and what should be considered for their care and recovery?"
   ]
  },
  {
   "cell_type": "code",
   "execution_count": 19,
   "metadata": {
    "colab": {
     "base_uri": "https://localhost:8080/"
    },
    "executionInfo": {
     "elapsed": 11321,
     "status": "ok",
     "timestamp": 1754802575535,
     "user": {
      "displayName": "Neha Mishra",
      "userId": "05638810250137303527"
     },
     "user_tz": 300
    },
    "id": "mE2GMQk8RQ_p",
    "outputId": "484823c6-dda4-4738-c41c-1df387c2f9c5"
   },
   "outputs": [
    {
     "name": "stderr",
     "output_type": "stream",
     "text": [
      "Llama.generate: prefix-match hit\n"
     ]
    },
    {
     "name": "stdout",
     "output_type": "stream",
     "text": [
      "1. Assessing the Fracture: The first step is to assess the severity of the fracture. This can be done by checking for signs of deformity, swelling, bruising, numbness or tingling sensations, and if there is open skin or bone protruding from the wound.\n",
      "    2. Immobilizing the Leg: Use a splint or a makeshift sling to immobilize the leg to prevent further damage and reduce pain. If possible, elevate the injured leg above heart level to minimize swelling.\n",
      "    3. Controlling Bleeding\n"
     ]
    }
   ],
   "source": [
    "user_prompt5 = \"What are the necessary precautions and treatment steps for a person who has fractured their leg during a hiking trip, and what should be considered for their care and recovery?\"\n",
    "response5 = generate_llama_response(user_prompt5)\n",
    "print(response5)"
   ]
  },
  {
   "cell_type": "code",
   "execution_count": 20,
   "metadata": {
    "colab": {
     "base_uri": "https://localhost:8080/"
    },
    "executionInfo": {
     "elapsed": 49201,
     "status": "ok",
     "timestamp": 1754802630342,
     "user": {
      "displayName": "Neha Mishra",
      "userId": "05638810250137303527"
     },
     "user_tz": 300
    },
    "id": "HLaVOqGaQXN3",
    "outputId": "4b26702a-5b44-42ba-e121-1a6643dec293"
   },
   "outputs": [
    {
     "name": "stderr",
     "output_type": "stream",
     "text": [
      "Llama.generate: prefix-match hit\n"
     ]
    },
    {
     "name": "stdout",
     "output_type": "stream",
     "text": [
      "1. Assessing the Fracture: The first step is to assess the severity of the fracture. This can be done by checking for signs of deformity, swelling, bruising, numbness or tingling sensations, and if there's open skin or bone protruding. If the leg appears misshapen or the person is unable to bear weight on it, these could indicate a more serious fracture that requires immediate medical attention.\n",
      "    2. Immobilizing the Fractured Leg: Use a splint, sling, or a makeshift immobilizer (such as a hiking pole) to prevent any further movement of the leg and reduce pain. Be careful not to apply too much pressure on the injury site that could restrict blood flow.\n",
      "    3. Provide Comfort and Support: Keep the person warm by covering them with blankets or insulating materials, and provide fluids to maintain hydration. Encourage them to rest as much as possible to conserve energy for their journey back to civilization.\n",
      "    4. Seek Medical Help: If the fracture is severe, it's essential to seek professional medical help as soon as possible. This may involve calling emergency services or arranging transportation to a hospital. Inform the healthcare providers about any underlying health conditions and medications that the person might be taking.\n",
      "    5. Treatment in Hospital: Depending on the type and severity of the fracture, treatment options could range from immobilization with a cast or brace to surgery for more complex injuries. The doctor may also prescribe pain medication to help manage discomfort during recovery.\n",
      "    6. Rehabilitation: After the initial injury has been treated, rehabilitation is crucial to restore full function and mobility to the affected leg. This could involve physical therapy exercises, assistive devices like crutches or a walker, and regular follow-up appointments with healthcare professionals to monitor progress and address any complications that may arise during recovery.\n",
      "    7. Prevention: To minimize the risk of fractures while hiking, ensure proper preparation by wearing appropriate footwear, carrying adequate water and food supplies, staying on marked trails, and being aware of weather conditions. Additionally, maintaining good overall fitness levels can help improve balance and reduce the likelihood of falls.\n"
     ]
    }
   ],
   "source": [
    "response5 = generate_llama_response(user_prompt5, max_tokens=1024)\n",
    "print(response5)"
   ]
  },
  {
   "cell_type": "code",
   "execution_count": 21,
   "metadata": {
    "executionInfo": {
     "elapsed": 10,
     "status": "ok",
     "timestamp": 1754802633609,
     "user": {
      "displayName": "Neha Mishra",
      "userId": "05638810250137303527"
     },
     "user_tz": 300
    },
    "id": "3uyoELA30Rbt"
   },
   "outputs": [],
   "source": [
    "# function to generate, process, and return the response from the LLMwith different system prompt\n",
    "def generate_llama_response(user_prompt):\n",
    "\n",
    "    # System message\n",
    "    system_message = \"\"\"\n",
    "    [INST]<<SYS>> Respond to the user question based on the user prompt. Keep the answer short focusing on context of the question.<</SYS>>[/INST]\n",
    "    \"\"\"\n",
    "\n",
    "    # Combine user_prompt and system_message to create the prompt\n",
    "    prompt = f\"{user_prompt}\\n{system_message}\"\n",
    "\n",
    "    # Generate a response from the LLaMA model\n",
    "    response = llm(\n",
    "        prompt=prompt,\n",
    "        max_tokens=1024,\n",
    "        temperature=0.01,\n",
    "        top_p=0.95,\n",
    "        repeat_penalty=1.2,\n",
    "        top_k=50,\n",
    "        stop=['INST'],\n",
    "        echo=False\n",
    "    )\n",
    "\n",
    "    # Extract and return the response text\n",
    "    response_text = response[\"choices\"][0][\"text\"]\n",
    "    return response_text"
   ]
  },
  {
   "cell_type": "code",
   "execution_count": 22,
   "metadata": {
    "colab": {
     "base_uri": "https://localhost:8080/"
    },
    "executionInfo": {
     "elapsed": 30950,
     "status": "ok",
     "timestamp": 1754802667565,
     "user": {
      "displayName": "Neha Mishra",
      "userId": "05638810250137303527"
     },
     "user_tz": 300
    },
    "id": "k2tYvLz10XZT",
    "outputId": "9399cf1f-11ca-49d2-ae18-c4eb19080c73"
   },
   "outputs": [
    {
     "name": "stderr",
     "output_type": "stream",
     "text": [
      "Llama.generate: prefix-match hit\n"
     ]
    },
    {
     "name": "stdout",
     "output_type": "stream",
     "text": [
      "1. Recognize and suspect sepsis early using clinical suspicion, laboratory findings (elevated white blood cell count, lactate), and scoring systems like Sequential Organ Failure Assessment (SOFA) or Quick Sequential [Sepsis-related Organ Failure Assessment (qSOFA).](https://www.ncbi.nlm.nih.gov/pmc/articles/PMC3671285/)\n",
      "    2. Initiate early goal-directed therapy: administer broad-spectrum antibiotics, fluid resuscitation to maintain adequate tissue perfusion (MAP > 65 mmHg and CVP or central venous pressure > 8 cm H2O), and consider vasopressors if needed for mean arterial pressure support.\n",
      "    3. Monitor vital signs closely: assess respiratory status, cardiac output, urine output, electrolytes, lactate levels, and organ function regularly.\n",
      "    4. Administer corticosteroids in specific situations (septic shock unresponsive to fluid resuscitation).\n",
      "    5. Consider source control for infection if possible: drain abscesses or perform surgical interventions as needed.\n",
      "    6. Provide supportive care, including mechanical ventilation and renal replacement therapy when necessary.\n",
      "    7. Administer anticoagulation in select cases (sepsis-induced coagulopathy).\n",
      "    8. Monitor for complications: secondary bacterial infection, multiorgan failure, or septic shock progression.\n",
      "    9. Continuously reassess and adjust treatment plans based on patient response and clinical improvement.\n"
     ]
    }
   ],
   "source": [
    "user_prompt = \"What is the protocol for managing sepsis in a critical care unit?\"\n",
    "response = generate_llama_response(user_prompt)\n",
    "print(response)"
   ]
  },
  {
   "cell_type": "code",
   "execution_count": 23,
   "metadata": {
    "colab": {
     "base_uri": "https://localhost:8080/"
    },
    "executionInfo": {
     "elapsed": 12002,
     "status": "ok",
     "timestamp": 1754802687658,
     "user": {
      "displayName": "Neha Mishra",
      "userId": "05638810250137303527"
     },
     "user_tz": 300
    },
    "id": "exDJVkpl0Xij",
    "outputId": "ba168ab9-a19c-4c54-c18b-c796ace885f3"
   },
   "outputs": [
    {
     "name": "stderr",
     "output_type": "stream",
     "text": [
      "Llama.generate: prefix-match hit\n"
     ]
    },
    {
     "name": "stdout",
     "output_type": "stream",
     "text": [
      "Appendicitis is typically characterized by symptoms such as:\n",
      "    - Sudden pain in the lower right abdomen, often starting around the navel and moving downward\n",
      "    - Loss of appetite\n",
      "    - Nausea and vomiting\n",
      "    - Fever\n",
      "    - Abdominal swelling\n",
      "    \n",
      "Appendicitis cannot be cured with medicine alone. If left untreated, it can lead to rupture of the appendix, which is a medical emergency. The standard treatment for appendicitis is surgical removal of the appendix through an operation called appendectomy. This procedure helps prevent complications and reduces the risk of recurrence.\n"
     ]
    }
   ],
   "source": [
    "user_prompt2 = \"What are the common symptoms for appendicitis, and can it be cured via medicine? If not, what surgical procedure should be followed to treat it?\"\n",
    "response2 = generate_llama_response(user_prompt2)\n",
    "print(response2)"
   ]
  },
  {
   "cell_type": "code",
   "execution_count": 24,
   "metadata": {
    "colab": {
     "base_uri": "https://localhost:8080/"
    },
    "executionInfo": {
     "elapsed": 17101,
     "status": "ok",
     "timestamp": 1754802708333,
     "user": {
      "displayName": "Neha Mishra",
      "userId": "05638810250137303527"
     },
     "user_tz": 300
    },
    "id": "lzwkThAM0Xtc",
    "outputId": "e4c2b8e3-ca58-4d29-f2d0-d3dca26ec9e5"
   },
   "outputs": [
    {
     "name": "stderr",
     "output_type": "stream",
     "text": [
      "Llama.generate: prefix-match hit\n"
     ]
    },
    {
     "name": "stdout",
     "output_type": "stream",
     "text": [
      "1. Possible Causes: Sudden patchy hair loss can have various reasons such as alopecia areata (an autoimmune condition), nutritional deficiencies, stress, or certain medications. Infections like ringworm can also cause bald spots.\n",
      "\n",
      "2. Treatments: For localized bald patches due to alopecia areata, topical treatments like minoxidil and corticosteroids may be prescribed by a healthcare professional. Other options include immunotherapy or hair transplantation in severe cases. Proper nutrition, stress management techniques, and avoiding triggering medications can help prevent patchy hair loss caused by other reasons.\n",
      "\n",
      "3. Prevention: Maintaining good overall health through balanced diet, regular exercise, adequate sleep, and managing stress effectively are essential for healthy hair growth. Avoid using harsh chemicals on your scalp or pulling out hairs excessively to minimize the risk of sudden bald patches.\n"
     ]
    }
   ],
   "source": [
    "user_prompt3 = \"What are the effective treatments or solutions for addressing sudden patchy hair loss, commonly seen as localized bald spots on the scalp, and what could be the possible causes behind it?\"\n",
    "response3 = generate_llama_response(user_prompt3)\n",
    "print(response3)"
   ]
  },
  {
   "cell_type": "code",
   "execution_count": 25,
   "metadata": {
    "colab": {
     "base_uri": "https://localhost:8080/"
    },
    "executionInfo": {
     "elapsed": 18505,
     "status": "ok",
     "timestamp": 1754802730054,
     "user": {
      "displayName": "Neha Mishra",
      "userId": "05638810250137303527"
     },
     "user_tz": 300
    },
    "id": "Qnz14kO10X28",
    "outputId": "1c2dab3b-9ac4-4415-de8e-b60776519f67"
   },
   "outputs": [
    {
     "name": "stderr",
     "output_type": "stream",
     "text": [
      "Llama.generate: prefix-match hit\n"
     ]
    },
    {
     "name": "stdout",
     "output_type": "stream",
     "text": [
      "1. Immediate medical attention: The person should be taken to a hospital for an evaluation and treatment of any life-threatening injuries or conditions.\n",
      "2. Rehabilitation therapy: Depending on the extent and location of brain damage, various therapies may be recommended such as physical therapy, occupational therapy, speech therapy, cognitive rehabilitation, and behavioral modification to help restore function and improve quality of life.\n",
      "3. Medications: Prescription medications may be used to manage symptoms related to brain injury like pain, seizures, depression, or anxiety.\n",
      "4. Surgery: In some cases, surgery might be necessary to remove blood clots, repair skull fractures, or alleviate pressure on the brain caused by swelling.\n",
      "5. Assistive devices and technology: Devices such as wheelchairs, walkers, communication aids, and assistive technologies can help individuals with brain injuries regain independence and improve their daily functioning.\n",
      "6. Support groups: Joining support groups or working with counselors can provide emotional support and valuable information for both the person with a brain injury and their family members.\n"
     ]
    }
   ],
   "source": [
    "user_prompt4 = \"What treatments are recommended for a person who has sustained a physical injury to brain tissue, resulting in temporary or permanent impairment of brain function?\"\n",
    "response4 = generate_llama_response(user_prompt4)\n",
    "print(response4)"
   ]
  },
  {
   "cell_type": "code",
   "execution_count": 26,
   "metadata": {
    "colab": {
     "base_uri": "https://localhost:8080/"
    },
    "executionInfo": {
     "elapsed": 28360,
     "status": "ok",
     "timestamp": 1754802761708,
     "user": {
      "displayName": "Neha Mishra",
      "userId": "05638810250137303527"
     },
     "user_tz": 300
    },
    "id": "0k12ia1B0YBQ",
    "outputId": "4aeaccca-2411-4667-dd8a-fbf75cb69290"
   },
   "outputs": [
    {
     "name": "stderr",
     "output_type": "stream",
     "text": [
      "Llama.generate: prefix-match hit\n"
     ]
    },
    {
     "name": "stdout",
     "output_type": "stream",
     "text": [
      "1. Assess the severity: Check if it's an open or closed fracture, and if there is any swelling, bruising, deformity, or numbness below the injury site.\n",
      "    2. Immobilize the leg: Use a splint or sling to prevent movement and further damage. If possible, elevate the injured leg above heart level to reduce swelling.\n",
      "    3. Seek medical help: Call emergency services if you're in an isolated area or unable to transport the person yourself. In non-emergency situations, schedule a doctor’s appointment as soon as possible.\n",
      "    4. Pain management: Provide over-the-counter pain medication like acetaminophen or ibuprofen, following dosage instructions carefully.\n",
      "    5. Proper nutrition and hydration: Ensure the person is getting enough nutrients to support bone healing and adequate fluids for proper hydration.\n",
      "    6. Follow doctor's advice: Adhere to any specific care instructions provided by your healthcare professional, such as physical therapy exercises or use of a cast or brace.\n",
      "    7. Monitor progress: Keep track of the person’s recovery process, including their pain levels and mobility improvements.\n",
      "    8. Emotional support: Provide encouragement and emotional support during this challenging time. Remember that healing takes time, so be patient and understanding.\n"
     ]
    }
   ],
   "source": [
    "user_prompt5 = \"What are the necessary precautions and treatment steps for a person who has fractured their leg during a hiking trip, and what should be considered for their care and recovery?\"\n",
    "response5 = generate_llama_response(user_prompt5)\n",
    "print(response5)"
   ]
  },
  {
   "cell_type": "markdown",
   "metadata": {
    "id": "t_O1PGdNO2M9"
   },
   "source": [
    "## Data Preparation for RAG"
   ]
  },
  {
   "cell_type": "code",
   "execution_count": 27,
   "metadata": {
    "executionInfo": {
     "elapsed": 2275,
     "status": "ok",
     "timestamp": 1754802775641,
     "user": {
      "displayName": "Neha Mishra",
      "userId": "05638810250137303527"
     },
     "user_tz": 300
    },
    "id": "3SqRrFRcSIU6"
   },
   "outputs": [],
   "source": [
    "#Libraries for processing dataframes,text\n",
    "import json,os\n",
    "import tiktoken\n",
    "import pandas as pd\n",
    "\n",
    "#Libraries for Loading Data, Chunking, Embedding, and Vector Databases\n",
    "from langchain.text_splitter import RecursiveCharacterTextSplitter\n",
    "from langchain_community.document_loaders import PyMuPDFLoader\n",
    "from langchain_community.embeddings.sentence_transformer import SentenceTransformerEmbeddings\n",
    "from langchain_community.vectorstores import Chroma"
   ]
  },
  {
   "cell_type": "markdown",
   "metadata": {
    "id": "uTpWESc53dL9"
   },
   "source": [
    "### Loading the Data"
   ]
  },
  {
   "cell_type": "code",
   "execution_count": 28,
   "metadata": {
    "colab": {
     "base_uri": "https://localhost:8080/"
    },
    "executionInfo": {
     "elapsed": 2064,
     "status": "ok",
     "timestamp": 1754802781255,
     "user": {
      "displayName": "Neha Mishra",
      "userId": "05638810250137303527"
     },
     "user_tz": 300
    },
    "id": "8fGck2WDvd8P",
    "outputId": "6d56b2d5-897b-47d9-90e8-59c13f31c97d"
   },
   "outputs": [
    {
     "name": "stdout",
     "output_type": "stream",
     "text": [
      "Mounted at /content/drive\n"
     ]
    }
   ],
   "source": [
    "from google.colab import drive\n",
    "drive.mount('/content/drive', force_remount=True)"
   ]
  },
  {
   "cell_type": "code",
   "execution_count": 29,
   "metadata": {
    "executionInfo": {
     "elapsed": 20,
     "status": "ok",
     "timestamp": 1754802783056,
     "user": {
      "displayName": "Neha Mishra",
      "userId": "05638810250137303527"
     },
     "user_tz": 300
    },
    "id": "ybj2cEnzRSXq"
   },
   "outputs": [],
   "source": [
    "medical_diagnosis_pdf_path = \"/content/drive/MyDrive/Colab Notebooks/Projects/NLP/medical_diagnosis_manual.pdf\""
   ]
  },
  {
   "cell_type": "code",
   "execution_count": 30,
   "metadata": {
    "executionInfo": {
     "elapsed": 250,
     "status": "ok",
     "timestamp": 1754802784676,
     "user": {
      "displayName": "Neha Mishra",
      "userId": "05638810250137303527"
     },
     "user_tz": 300
    },
    "id": "5EBSi58z0zvb"
   },
   "outputs": [],
   "source": [
    "pdf_loader = PyMuPDFLoader(medical_diagnosis_pdf_path)"
   ]
  },
  {
   "cell_type": "code",
   "execution_count": 31,
   "metadata": {
    "executionInfo": {
     "elapsed": 25310,
     "status": "ok",
     "timestamp": 1754802810808,
     "user": {
      "displayName": "Neha Mishra",
      "userId": "05638810250137303527"
     },
     "user_tz": 300
    },
    "id": "LQvWDlrk0z2l"
   },
   "outputs": [],
   "source": [
    "medical_diagnosis_manual = pdf_loader.load()"
   ]
  },
  {
   "cell_type": "markdown",
   "metadata": {
    "id": "ffj0ca3eZT4u"
   },
   "source": [
    "### Data Overview"
   ]
  },
  {
   "cell_type": "markdown",
   "metadata": {
    "id": "f9weTDzMxRRS"
   },
   "source": [
    "#### Checking the first 5 pages"
   ]
  },
  {
   "cell_type": "code",
   "execution_count": 32,
   "metadata": {
    "colab": {
     "base_uri": "https://localhost:8080/"
    },
    "executionInfo": {
     "elapsed": 40,
     "status": "ok",
     "timestamp": 1754802820142,
     "user": {
      "displayName": "Neha Mishra",
      "userId": "05638810250137303527"
     },
     "user_tz": 300
    },
    "id": "MSEiL--bRTZT",
    "outputId": "5fdf5025-6bd7-45bd-b48b-c69e1ad8fcee"
   },
   "outputs": [
    {
     "name": "stdout",
     "output_type": "stream",
     "text": [
      "Page Number : 1\n",
      "neha.artica@gmail.com\n",
      "43A5MYC1TD\n",
      "eant for personal use by neha.artica@gm\n",
      "shing the contents in part or full is liable \n",
      "\n",
      "Page Number : 2\n",
      "neha.artica@gmail.com\n",
      "43A5MYC1TD\n",
      "This file is meant for personal use by neha.artica@gmail.com only.\n",
      "Sharing or publishing the contents in part or full is liable for legal action.\n",
      "\n",
      "Page Number : 3\n",
      "Table of Contents\n",
      "1\n",
      "Front    ................................................................................................................................................................................................................\n",
      "1\n",
      "Cover    .......................................................................................................................................................................................................\n",
      "2\n",
      "Front Matter    ...........................................................................................................................................................................................\n",
      "53\n",
      "1 - Nutritional Disorders    ...............................................................................................................................................................\n",
      "53\n",
      "Chapter 1. Nutrition: General Considerations    .....................................................................................................................\n",
      "59\n",
      "Chapter 2. Undernutrition    .............................................................................................................................................................\n",
      "69\n",
      "Chapter 3. Nutritional Support    ...................................................................................................................................................\n",
      "76\n",
      "Chapter 4. Vitamin Deficiency, Dependency & Toxicity    ..................................................................................................\n",
      "99\n",
      "Chapter 5. Mineral Deficiency & Toxicity    ..............................................................................................................................\n",
      "108\n",
      "Chapter 6. Obesity & the Metabolic Syndrome    ...............................................................................................................\n",
      "120\n",
      "2 - Gastrointestinal Disorders    ..............................................................................................................................................\n",
      "120\n",
      "Chapter 7. Approach to the Patient With Upper GI Complaints    ...............................................................................\n",
      "132\n",
      "Chapter 8. Approach to the Patient With Lower GI Complaints    ...............................................................................\n",
      "143\n",
      "Chapter 9. Diagnostic & Therapeutic GI Procedures    ....................................................................................................\n",
      "150\n",
      "Chapter 10. GI Bleeding    ............................................................................................................................................................\n",
      "158\n",
      "Chapter 11. Acute Abdomen & Surgical Gastroenterology    .........................................................................................\n",
      "172\n",
      "Chapter 12. Esophageal & Swallowing Disorders    ..........................................................................................................\n",
      "183\n",
      "Chapter 13. Gastritis & Peptic Ulcer Disease    ..................................................................................................................\n",
      "196\n",
      "Chapter 14. Bezoars & Foreign Bodies    ..............................................................................................................................\n",
      "199\n",
      "Chapter 15. Pancreatitis    ............................................................................................................................................................\n",
      "206\n",
      "Chapter 16. Gastroenteritis    ......................................................................................................................................................\n",
      "213\n",
      "Chapter 17. Malabsorption Syndromes    ..............................................................................................................................\n",
      "225\n",
      "Chapter 18. Irritable Bowel Syndrome    ................................................................................................................................\n",
      "229\n",
      "Chapter 19. Inflammatory Bowel Disease    .........................................................................................................................\n",
      "241\n",
      "Chapter 20. Diverticular Disease    ...........................................................................................................................................\n",
      "246\n",
      "Chapter 21. Anorectal Disorders    ............................................................................................................................................\n",
      "254\n",
      "Chapter 22. Tumors of the GI Tract    ......................................................................................................................................\n",
      "275\n",
      "3 - Hepatic & Biliary Disorders    ............................................................................................................................................\n",
      "275\n",
      "Chapter 23. Approach to the Patient With Liver Disease    ...........................................................................................\n",
      "294\n",
      "Chapter 24. Testing for Hepatic & Biliary Disorders    ......................................................................................................\n",
      "305\n",
      "Chapter 25. Drugs & the Liver    ................................................................................................................................................\n",
      "308\n",
      "Chapter 26. Alcoholic Liver Disease    ....................................................................................................................................\n",
      "314\n",
      "Chapter 27. Fibrosis & Cirrhosis    ............................................................................................................................................\n",
      "322\n",
      "Chapter 28. Hepatitis    ..................................................................................................................................................................\n",
      "333\n",
      "Chapter 29. Vascular Disorders of the Liver    .....................................................................................................................\n",
      "341\n",
      "Chapter 30. Liver Masses & Granulomas    ..........................................................................................................................\n",
      "348\n",
      "Chapter 31. Gallbladder & Bile Duct Disorders    ...............................................................................................................\n",
      "362\n",
      "4 - Musculoskeletal & Connective Tissue Disorders    .........................................................................................\n",
      "362\n",
      "Chapter 32. Approach to the Patient With Joint Disease    ............................................................................................\n",
      "373\n",
      "Chapter 33. Autoimmune Rheumatic Disorders    ..............................................................................................................\n",
      "391\n",
      "Chapter 34. Vasculitis    .................................................................................................................................................................\n",
      "416\n",
      "Chapter 35. Joint Disorders    .....................................................................................................................................................\n",
      "435\n",
      "Chapter 36. Crystal-Induced Arthritides    ..............................................................................................................................\n",
      "443\n",
      "Chapter 37. Osteoporosis    .........................................................................................................................................................\n",
      "448\n",
      "Chapter 38. Paget's Disease of Bone    ..................................................................................................................................\n",
      "451\n",
      "Chapter 39. Osteonecrosis    .......................................................................................................................................................\n",
      "455\n",
      "Chapter 40. Infections of Joints & Bones    ...........................................................................................................................\n",
      "463\n",
      "Chapter 41. Bursa, Muscle & Tendon Disorders    .............................................................................................................\n",
      "470\n",
      "Chapter 42. Neck & Back Pain    ...............................................................................................................................................\n",
      "481\n",
      "Chapter 43. Hand Disorders    ....................................................................................................................................................\n",
      "neha.artica@gmail.com\n",
      "43A5MYC1TD\n",
      "This file is meant for personal use by neha.artica@gmail.com only.\n",
      "Sharing or publishing the contents in part or full is liable for legal action.\n",
      "\n",
      "Page Number : 4\n",
      "491\n",
      "Chapter 44. Foot & Ankle Disorders    .....................................................................................................................................\n",
      "502\n",
      "Chapter 45. Tumors of Bones & Joints    ...............................................................................................................................\n",
      "510\n",
      "5 - Ear, Nose, Throat & Dental Disorders    ..................................................................................................................\n",
      "510\n",
      "Chapter 46. Approach to the Patient With Ear Problems    ...........................................................................................\n",
      "523\n",
      "Chapter 47. Hearing Loss    .........................................................................................................................................................\n",
      "535\n",
      "Chapter 48. Inner Ear Disorders    ............................................................................................................................................\n",
      "542\n",
      "Chapter 49. Middle Ear & Tympanic Membrane Disorders    ........................................................................................\n",
      "550\n",
      "Chapter 50. External Ear Disorders    .....................................................................................................................................\n",
      "554\n",
      "Chapter 51. Approach to the Patient With Nasal & Pharyngeal Symptoms    .......................................................\n",
      "567\n",
      "Chapter 52. Oral & Pharyngeal Disorders    .........................................................................................................................\n",
      "578\n",
      "Chapter 53. Nose & Paranasal Sinus Disorders    .............................................................................................................\n",
      "584\n",
      "Chapter 54. Laryngeal Disorders    ...........................................................................................................................................\n",
      "590\n",
      "Chapter 55. Tumors of the Head & Neck    ...........................................................................................................................\n",
      "600\n",
      "Chapter 56. Approach to Dental & Oral Symptoms    .......................................................................................................\n",
      "619\n",
      "Chapter 57. Common Dental Disorders    .............................................................................................................................\n",
      "629\n",
      "Chapter 58. Dental Emergencies    ..........................................................................................................................................\n",
      "635\n",
      "Chapter 59. Temporomandibular Disorders    ......................................................................................................................\n",
      "641\n",
      "6 - Eye Disorders    ............................................................................................................................................................................\n",
      "641\n",
      "Chapter 60. Approach to the Ophthalmologic Patient    ..................................................................................................\n",
      "669\n",
      "Chapter 61. Refractive Error    ...................................................................................................................................................\n",
      "674\n",
      "Chapter 62. Eyelid & Lacrimal Disorders    ...........................................................................................................................\n",
      "680\n",
      "Chapter 63. Conjunctival & Scleral Disorders    .................................................................................................................\n",
      "690\n",
      "Chapter 64. Corneal Disorders    ...............................................................................................................................................\n",
      "703\n",
      "Chapter 65. Glaucoma    ...............................................................................................................................................................\n",
      "710\n",
      "Chapter 66. Cataract    ...................................................................................................................................................................\n",
      "713\n",
      "Chapter 67. Uveitis    ......................................................................................................................................................................\n",
      "719\n",
      "Chapter 68. Retinal Disorders    .................................................................................................................................................\n",
      "731\n",
      "Chapter 69. Optic Nerve Disorders    ......................................................................................................................................\n",
      "737\n",
      "Chapter 70. Orbital Diseases    ..................................................................................................................................................\n",
      "742\n",
      "7 - Dermatologic Disorders    ....................................................................................................................................................\n",
      "742\n",
      "Chapter 71. Approach to the Dermatologic Patient    .......................................................................................................\n",
      "755\n",
      "Chapter 72. Principles of Topical Dermatologic Therapy    ............................................................................................\n",
      "760\n",
      "Chapter 73. Acne & Related Disorders    ...............................................................................................................................\n",
      "766\n",
      "Chapter 74. Bullous Diseases    .................................................................................................................................................\n",
      "771\n",
      "Chapter 75. Cornification Disorders    .....................................................................................................................................\n",
      "775\n",
      "Chapter 76. Dermatitis    ...............................................................................................................................................................\n",
      "786\n",
      "Chapter 77. Reactions to Sunlight    ........................................................................................................................................\n",
      "791\n",
      "Chapter 78. Psoriasis & Scaling Diseases    ........................................................................................................................\n",
      "799\n",
      "Chapter 79. Hypersensitivity & Inflammatory Disorders    .............................................................................................\n",
      "808\n",
      "Chapter 80. Sweating Disorders    ............................................................................................................................................\n",
      "811\n",
      "Chapter 81. Bacterial Skin Infections    ...................................................................................................................................\n",
      "822\n",
      "Chapter 82. Fungal Skin Infections    ......................................................................................................................................\n",
      "831\n",
      "Chapter 83. Parasitic Skin Infections    ...................................................................................................................................\n",
      "836\n",
      "Chapter 84. Viral Skin Diseases    ............................................................................................................................................\n",
      "841\n",
      "Chapter 85. Pigmentation Disorders    ....................................................................................................................................\n",
      "846\n",
      "Chapter 86. Hair Disorders    .......................................................................................................................................................\n",
      "855\n",
      "Chapter 87. Nail Disorders    .......................................................................................................................................................\n",
      "861\n",
      "Chapter 88. Pressure Ulcers    ...................................................................................................................................................\n",
      "867\n",
      "Chapter 89. Benign Tumors    .....................................................................................................................................................\n",
      "874\n",
      "Chapter 90. Cancers of the Skin    ............................................................................................................................................\n",
      "882\n",
      "8 - Endocrine & Metabolic Disorders    .............................................................................................................................\n",
      "882\n",
      "Chapter 91. Principles of Endocrinology    ............................................................................................................................\n",
      "887\n",
      "Chapter 92. Pituitary Disorders    ..............................................................................................................................................\n",
      "901\n",
      "Chapter 93. Thyroid Disorders    ................................................................................................................................................\n",
      "neha.artica@gmail.com\n",
      "43A5MYC1TD\n",
      "This file is meant for personal use by neha.artica@gmail.com only.\n",
      "Sharing or publishing the contents in part or full is liable for legal action.\n",
      "\n",
      "Page Number : 5\n",
      "921\n",
      "Chapter 94. Adrenal Disorders    ................................................................................................................................................\n",
      "936\n",
      "Chapter 95. Polyglandular Deficiency Syndromes    ........................................................................................................\n",
      "939\n",
      "Chapter 96. Porphyrias    ..............................................................................................................................................................\n",
      "949\n",
      "Chapter 97. Fluid & Electrolyte Metabolism    .....................................................................................................................\n",
      "987\n",
      "Chapter 98. Acid-Base Regulation & Disorders    ..............................................................................................................\n",
      "1001\n",
      "Chapter 99. Diabetes Mellitus & Disorders of Carbohydrate Metabolism    ........................................................\n",
      "1024\n",
      "Chapter 100. Lipid Disorders    ................................................................................................................................................\n",
      "1034\n",
      "Chapter 101. Amyloidosis    ......................................................................................................................................................\n",
      "1037\n",
      "Chapter 102. Carcinoid Tumors    ..........................................................................................................................................\n",
      "1040\n",
      "Chapter 103. Multiple Endocrine Neoplasia Syndromes    .........................................................................................\n",
      "1046\n",
      "9 - Hematology & Oncology    ...............................................................................................................................................\n",
      "1046\n",
      "Chapter 104. Approach to the Patient With Anemia    ..................................................................................................\n",
      "1050\n",
      "Chapter 105. Anemias Caused by Deficient Erythropoiesis    ...................................................................................\n",
      "1061\n",
      "Chapter 106. Anemias Caused by Hemolysis    ...............................................................................................................\n",
      "1078\n",
      "Chapter 107. Neutropenia & Lymphocytopenia    ...........................................................................................................\n",
      "1086\n",
      "Chapter 108. Thrombocytopenia & Platelet Dysfunction    .........................................................................................\n",
      "1097\n",
      "Chapter 109. Hemostasis    ......................................................................................................................................................\n",
      "1104\n",
      "Chapter 110. Thrombotic Disorders    ...................................................................................................................................\n",
      "1107\n",
      "Chapter 111. Coagulation Disorders    ..................................................................................................................................\n",
      "1113\n",
      "Chapter 112. Bleeding Due to Abnormal Blood Vessels    ...........................................................................................\n",
      "1116\n",
      "Chapter 113. Spleen Disorders    ............................................................................................................................................\n",
      "1120\n",
      "Chapter 114. Eosinophilic Disorders    .................................................................................................................................\n",
      "1126\n",
      "Chapter 115. Histiocytic Syndromes    .................................................................................................................................\n",
      "1131\n",
      "Chapter 116. Myeloproliferative Disorders    .....................................................................................................................\n",
      "1141\n",
      "Chapter 117. Leukemias    .........................................................................................................................................................\n",
      "1154\n",
      "Chapter 118. Lymphomas    ......................................................................................................................................................\n",
      "1164\n",
      "Chapter 119. Plasma Cell Disorders    .................................................................................................................................\n",
      "1172\n",
      "Chapter 120. Iron Overload    ...................................................................................................................................................\n",
      "1177\n",
      "Chapter 121. Transfusion Medicine    ...................................................................................................................................\n",
      "1186\n",
      "Chapter 122. Overview of Cancer    ......................................................................................................................................\n",
      "1198\n",
      "Chapter 123. Tumor Immunology    .......................................................................................................................................\n",
      "1204\n",
      "Chapter 124. Principles of Cancer Therapy    ...................................................................................................................\n",
      "1215\n",
      "10 - Immunology; Allergic Disorders    ...........................................................................................................................\n",
      "1215\n",
      "Chapter 125. Biology of the Immune System    ...............................................................................................................\n",
      "1227\n",
      "Chapter 126. Immunodeficiency Disorders    ....................................................................................................................\n",
      "1243\n",
      "Chapter 127. Allergic & Other Hypersensitivity Disorders    .......................................................................................\n",
      "1263\n",
      "Chapter 128. Transplantation    ...............................................................................................................................................\n",
      "1281\n",
      "11 - Infectious Diseases    ........................................................................................................................................................\n",
      "1281\n",
      "Chapter 129. Biology of Infectious Disease    ...................................................................................................................\n",
      "1300\n",
      "Chapter 130. Laboratory Diagnosis of Infectious Disease    ......................................................................................\n",
      "1306\n",
      "Chapter 131. Immunization    ...................................................................................................................................................\n",
      "1313\n",
      "Chapter 132. Bacteria & Antibacterial Drugs    .................................................................................................................\n",
      "1353\n",
      "Chapter 133. Gram-Positive Cocci    ....................................................................................................................................\n",
      "1366\n",
      "Chapter 134. Gram-Positive Bacilli    ...................................................................................................................................\n",
      "1376\n",
      "Chapter 135. Gram-Negative Bacilli    .................................................................................................................................\n",
      "1405\n",
      "Chapter 136. Spirochetes    ......................................................................................................................................................\n",
      "1413\n",
      "Chapter 137. Neisseriaceae    .................................................................................................................................................\n",
      "1419\n",
      "Chapter 138. Chlamydia & Mycoplasmas    ......................................................................................................................\n",
      "1421\n",
      "Chapter 139. Rickettsiae & Related Organisms    ..........................................................................................................\n",
      "1431\n",
      "Chapter 140. Anaerobic Bacteria    ........................................................................................................................................\n",
      "1450\n",
      "Chapter 141. Mycobacteria    ...................................................................................................................................................\n",
      "1470\n",
      "Chapter 142. Fungi    ...................................................................................................................................................................\n",
      "1493\n",
      "Chapter 143. Approach to Parasitic Infections    .............................................................................................................\n",
      "1496\n",
      "Chapter 144. Nematodes (Roundworms)    .......................................................................................................................\n",
      "neha.artica@gmail.com\n",
      "43A5MYC1TD\n",
      "This file is meant for personal use by neha.artica@gmail.com only.\n",
      "Sharing or publishing the contents in part or full is liable for legal action.\n",
      "\n"
     ]
    }
   ],
   "source": [
    "for i in range(5):\n",
    "    print(f\"Page Number : {i+1}\",end=\"\\n\")\n",
    "    print(medical_diagnosis_manual[i].page_content,end=\"\\n\")"
   ]
  },
  {
   "cell_type": "markdown",
   "metadata": {
    "id": "7-wNNalNxPKT"
   },
   "source": [
    "#### Checking the number of pages"
   ]
  },
  {
   "cell_type": "code",
   "execution_count": 33,
   "metadata": {
    "colab": {
     "base_uri": "https://localhost:8080/"
    },
    "executionInfo": {
     "elapsed": 9,
     "status": "ok",
     "timestamp": 1754802824523,
     "user": {
      "displayName": "Neha Mishra",
      "userId": "05638810250137303527"
     },
     "user_tz": 300
    },
    "id": "-NuC-6SNRT7K",
    "outputId": "26770cb7-ffc2-4d6e-839c-c2fb798cfdfa"
   },
   "outputs": [
    {
     "data": {
      "text/plain": [
       "4114"
      ]
     },
     "execution_count": 33,
     "metadata": {},
     "output_type": "execute_result"
    }
   ],
   "source": [
    "len(medical_diagnosis_manual)"
   ]
  },
  {
   "cell_type": "markdown",
   "metadata": {
    "id": "LECMxTH-zB-R"
   },
   "source": [
    "### Data Chunking"
   ]
  },
  {
   "cell_type": "code",
   "execution_count": 34,
   "metadata": {
    "executionInfo": {
     "elapsed": 429,
     "status": "ok",
     "timestamp": 1754802828398,
     "user": {
      "displayName": "Neha Mishra",
      "userId": "05638810250137303527"
     },
     "user_tz": 300
    },
    "id": "ir9Zi8rKRUmG"
   },
   "outputs": [],
   "source": [
    "text_splitter = RecursiveCharacterTextSplitter.from_tiktoken_encoder(\n",
    "    encoding_name='cl100k_base',\n",
    "    chunk_size=512,\n",
    "    chunk_overlap= 20\n",
    ")"
   ]
  },
  {
   "cell_type": "code",
   "execution_count": 35,
   "metadata": {
    "executionInfo": {
     "elapsed": 36902,
     "status": "ok",
     "timestamp": 1754802873388,
     "user": {
      "displayName": "Neha Mishra",
      "userId": "05638810250137303527"
     },
     "user_tz": 300
    },
    "id": "pXIje-BW1X56"
   },
   "outputs": [],
   "source": [
    "document_chunks = pdf_loader.load_and_split(text_splitter)"
   ]
  },
  {
   "cell_type": "code",
   "execution_count": 36,
   "metadata": {
    "colab": {
     "base_uri": "https://localhost:8080/"
    },
    "executionInfo": {
     "elapsed": 46,
     "status": "ok",
     "timestamp": 1754802886021,
     "user": {
      "displayName": "Neha Mishra",
      "userId": "05638810250137303527"
     },
     "user_tz": 300
    },
    "id": "RNl3r5aH2VgD",
    "outputId": "18d46e2c-bab8-4cc8-c3b5-1b12ef7d772f"
   },
   "outputs": [
    {
     "data": {
      "text/plain": [
       "8463"
      ]
     },
     "execution_count": 36,
     "metadata": {},
     "output_type": "execute_result"
    }
   ],
   "source": [
    "len(document_chunks)"
   ]
  },
  {
   "cell_type": "code",
   "execution_count": 37,
   "metadata": {
    "colab": {
     "base_uri": "https://localhost:8080/",
     "height": 35
    },
    "executionInfo": {
     "elapsed": 25,
     "status": "ok",
     "timestamp": 1754802888212,
     "user": {
      "displayName": "Neha Mishra",
      "userId": "05638810250137303527"
     },
     "user_tz": 300
    },
    "id": "cPXL_QZb2Zgz",
    "outputId": "c6aae473-54da-473d-8ac2-6ce362eea2e8"
   },
   "outputs": [
    {
     "data": {
      "application/vnd.google.colaboratory.intrinsic+json": {
       "type": "string"
      },
      "text/plain": [
       "'neha.artica@gmail.com\\n43A5MYC1TD\\neant for personal use by neha.artica@gm\\nshing the contents in part or full is liable'"
      ]
     },
     "execution_count": 37,
     "metadata": {},
     "output_type": "execute_result"
    }
   ],
   "source": [
    "document_chunks[0].page_content"
   ]
  },
  {
   "cell_type": "code",
   "execution_count": 38,
   "metadata": {
    "colab": {
     "base_uri": "https://localhost:8080/",
     "height": 87
    },
    "executionInfo": {
     "elapsed": 18,
     "status": "ok",
     "timestamp": 1754802890520,
     "user": {
      "displayName": "Neha Mishra",
      "userId": "05638810250137303527"
     },
     "user_tz": 300
    },
    "id": "6jTHl7yq2bza",
    "outputId": "e9c668cd-9570-49a9-f5f8-50f05941a81f"
   },
   "outputs": [
    {
     "data": {
      "application/vnd.google.colaboratory.intrinsic+json": {
       "type": "string"
      },
      "text/plain": [
       "\"Z\\nZafirlukast 1879\\nZalcitabine 1451\\nin children 2854\\nZaleplon 1709\\nZanamivir 1407\\nin influenza 1407, 1929\\nZAP-70 (zeta-associated protein 70) deficiency 1092, 1108\\nZavanelli maneuver 2680\\nZellweger syndrome 2383, 3023\\nZenker's diverticulum 125\\nZidovudine 1451, 1453\\nin children 2854\\nZileuton 1881\\nin asthma 1880\\nZinc 49, 55, 3431-3432\\nin common cold 1405\\ndeficiency of 11, 49, 55\\nin dermatophytoses 705\\npoisoning with 3328, 3353\\nrecommended dietary allowances for 50\\nreference values for 3499\\ntoxicity of 49, 55\\ncopper deficiency and 49\\nin Wilson's disease 52\\nZinc oxide 2233\\ngelatin formulation of 646, 672\\nZinc pyrithione 647\\nZinc shakes 55\\nZipper injury 3239, 3240\\nZiprasidone\\nin agitation 1492\\nin bipolar disorder 3059\\npoisoning with 3347\\nin schizophrenia 1566\\nZoledronate 359, 361, 848\\nZollinger-Ellison syndrome 95, 199, 200-201, 910\\nmastocytosis vs 1125\\nMenetrier's disease vs 132\\npeptic ulcer disease vs 134\\nZolmitriptan 1721\\nZolpidem 1709, 3103\\nZonisamide 1701\\nZoonotic diseases, cutaneous 718\\nZoophobia 1498\\nZoster (see Herpes zoster virus infection)\\nZygomycosis 1332\\nThe Merck Manual of Diagnosis & Therapy, 19th Edition\\nZ\\n4104\\nneha.artica@gmail.com\\n43A5MYC1TD\\nThis file is meant for personal use by neha.artica@gmail.com only.\\nSharing or publishing the contents in part or full is liable for legal action.\""
      ]
     },
     "execution_count": 38,
     "metadata": {},
     "output_type": "execute_result"
    }
   ],
   "source": [
    "document_chunks[-1].page_content"
   ]
  },
  {
   "cell_type": "markdown",
   "metadata": {
    "id": "BvHVejcWz0Bl"
   },
   "source": [
    "### Embedding"
   ]
  },
  {
   "cell_type": "code",
   "execution_count": 39,
   "metadata": {
    "executionInfo": {
     "elapsed": 19345,
     "status": "ok",
     "timestamp": 1754802912627,
     "user": {
      "displayName": "Neha Mishra",
      "userId": "05638810250137303527"
     },
     "user_tz": 300
    },
    "id": "R3CAgoUeRVLa"
   },
   "outputs": [],
   "source": [
    "embedding_model = SentenceTransformerEmbeddings(model_name='thenlper/gte-large')"
   ]
  },
  {
   "cell_type": "code",
   "execution_count": 40,
   "metadata": {
    "executionInfo": {
     "elapsed": 587,
     "status": "ok",
     "timestamp": 1754802916803,
     "user": {
      "displayName": "Neha Mishra",
      "userId": "05638810250137303527"
     },
     "user_tz": 300
    },
    "id": "ipVdeG_J2yf-"
   },
   "outputs": [],
   "source": [
    "embedding_1 = embedding_model.embed_query(document_chunks[0].page_content)"
   ]
  },
  {
   "cell_type": "code",
   "execution_count": 41,
   "metadata": {
    "colab": {
     "base_uri": "https://localhost:8080/"
    },
    "executionInfo": {
     "elapsed": 16,
     "status": "ok",
     "timestamp": 1754802918113,
     "user": {
      "displayName": "Neha Mishra",
      "userId": "05638810250137303527"
     },
     "user_tz": 300
    },
    "id": "SncjHOD6200D",
    "outputId": "a5973e0e-1ff5-4750-f4ca-725ac09d8274"
   },
   "outputs": [
    {
     "data": {
      "text/plain": [
       "1024"
      ]
     },
     "execution_count": 41,
     "metadata": {},
     "output_type": "execute_result"
    }
   ],
   "source": [
    "len(embedding_1)"
   ]
  },
  {
   "cell_type": "code",
   "execution_count": 42,
   "metadata": {
    "colab": {
     "base_uri": "https://localhost:8080/"
    },
    "executionInfo": {
     "elapsed": 22,
     "status": "ok",
     "timestamp": 1754802919365,
     "user": {
      "displayName": "Neha Mishra",
      "userId": "05638810250137303527"
     },
     "user_tz": 300
    },
    "id": "VgbpTfuB21XB",
    "outputId": "853081da-370d-4ec9-f02d-598b2a7570c5"
   },
   "outputs": [
    {
     "name": "stdout",
     "output_type": "stream",
     "text": [
      "[-0.029329389333724976, 0.018194282427430153, -0.0033010593615472317, -0.0026498103979974985, -0.0032665091566741467, -0.05095609650015831, 0.01653674617409706, 0.0320604145526886, -0.006114642135798931, 0.009387011639773846, 0.02607172355055809, 0.012917481362819672, 0.021929845213890076, -0.04317786917090416, -0.014668034389615059, 0.006613133009523153, -0.0031888573430478573, -0.03750202804803848, -0.006564529146999121, 0.016960712149739265, 0.02485170215368271, 0.012375133112072945, -0.08553222566843033, -0.02859608456492424, -0.015356861986219883, 0.021128837019205093, 0.04233521968126297, 0.0016557095805183053, 0.05116812884807587, 0.0223923921585083, -0.028187192976474762, -0.0014164346503093839, 0.026658834889531136, -0.04196138679981232, -0.005035104230046272, -0.001956908032298088, 0.044417139142751694, -0.02783725969493389, -0.02982799895107746, -0.04598867520689964, 0.005317986942827702, -0.008231248706579208, 0.03848383203148842, -0.019536778330802917, -0.014287137426435947, -0.010267226956784725, -0.03049296885728836, -0.005493370350450277, 0.025874488055706024, -0.03339111804962158, 0.03385044261813164, 0.013458628207445145, 0.041257742792367935, -0.011171066202223301, 0.0028383692260831594, -0.0010201669065281749, 0.0038739375304430723, -0.038469623774290085, -0.035477690398693085, 0.040364284068346024, 0.009820697829127312, -0.009548681788146496, 0.05127990245819092, -0.06003260612487793, 0.018398288637399673, 0.01875605620443821, 0.007259349804371595, -0.016762491315603256, 0.002287047915160656, -0.0033430494368076324, -0.005180113948881626, -0.007920896634459496, -0.01269618608057499, -0.010496350936591625, 0.008916659280657768, -0.010818268172442913, -0.006310497876256704, -0.019219083711504936, 0.01976774074137211, 0.021143797785043716, -0.001767659094184637, 0.05222058668732643, 0.041968584060668945, 0.0075179291889071465, -0.047487858682870865, -0.009641309268772602, -0.0017494845669716597, 0.00821877084672451, 0.006148229353129864, -0.013260615058243275, -0.01629507914185524, 0.05549389496445656, -0.004298234824091196, 0.011421780101954937, 0.04393700882792473, 0.07242777943611145, -0.06001795828342438, 0.041371382772922516, -0.0021758677903562784, 0.013646122068166733, 0.034915875643491745, 0.019496338441967964, -0.0025628753937780857, 0.07348974794149399, -0.031066447496414185, 0.012897325679659843, 0.02136438526213169, -0.025990039110183716, -0.00017690144886728376, -0.023812511935830116, -0.00353061780333519, -0.04325614124536514, -0.00870954804122448, -0.03796513378620148, 0.01918679289519787, 0.04294917359948158, 0.006732931360602379, 0.041987910866737366, -0.012179452925920486, 0.005039242561906576, 0.0005634797271341085, 0.009610309265553951, 0.015545997768640518, -0.035408973693847656, 0.008008669130504131, -0.03980714827775955, -0.008377967402338982, 0.02796863578259945, -0.03901442885398865, 0.0023514190688729286, -0.0084889130666852, -0.04635681211948395, -0.0015878583071753383, 0.012938975356519222, -0.019532887265086174, 0.032655615359544754, -0.0053424350917339325, 0.01286205742508173, 0.05120769143104553, -0.05391466245055199, 0.02661481499671936, 0.03686407953500748, -0.00838649645447731, 0.0815005898475647, -0.02353757619857788, 0.049162816256284714, 0.021001413464546204, 0.00989846047013998, -0.047424737364053726, 0.04336174577474594, -0.041422341018915176, 0.007339383941143751, -0.016189849004149437, 0.0187763012945652, -0.010160256177186966, -0.0019212006591260433, -0.010773889720439911, 0.018793625757098198, 0.018760574981570244, 0.050805989652872086, 0.003276510862633586, -0.005053055472671986, 0.010997451841831207, 0.034449100494384766, 0.0043297153897583485, 0.0712689459323883, -0.02532169781625271, -0.016398809850215912, -0.013776933774352074, -0.050147101283073425, 0.04868051037192345, -0.02345648966729641, -0.015479402616620064, 0.013837123289704323, 0.03650577738881111, 0.024781690910458565, 0.03157316893339157, -0.008982178755104542, 0.057619158178567886, 0.0246758833527565, -0.02246950939297676, 0.01775604858994484, 0.025958294048905373, 0.07357312738895416, 0.005870270077139139, -0.00883789174258709, 0.0035671216901391745, -0.01983237825334072, -0.05313969403505325, -0.010465193539857864, 0.03000842221081257, 0.04103214666247368, -0.018087247386574745, 0.036118123680353165, -0.0068352557718753815, 0.011839544400572777, -0.02189837582409382, -0.003768692258745432, -0.0054941317066550255, -0.07464396208524704, -0.008910268545150757, 0.03417082503437996, -0.038402631878852844, 0.013521039858460426, 0.009682639501988888, -0.00023047355352900922, 0.007815574295818806, 0.04742582514882088, -0.021721534430980682, -0.014976703561842442, 0.04405694082379341, 0.009554391726851463, -0.03168739005923271, -0.012383179739117622, -0.005125845316797495, 0.004550321027636528, -0.02253112941980362, 0.05171375721693039, -0.03985428065061569, -0.012112593278288841, 0.014545371755957603, 0.018627850338816643, 0.019234949722886086, 0.03455956280231476, -0.021645884960889816, 0.017780736088752747, 0.0029918914660811424, 0.02815121039748192, -0.015759259462356567, -0.021807363256812096, 0.0024767289869487286, 0.043799009174108505, 0.009736970998346806, 0.0739886537194252, 0.020418666303157806, 0.011918265372514725, 0.029197338968515396, 0.01684238761663437, -0.0017221648013219237, 0.022201471030712128, -0.017868483439087868, 0.02165212109684944, 0.03480220586061478, 0.01930270716547966, 0.015578551217913628, 0.049904413521289825, -0.002056193072348833, 0.018588652834296227, -0.022151518613100052, 0.03514227643609047, 0.0025137567427009344, 0.029612787067890167, 0.03114866092801094, 0.051104363054037094, -0.03629319742321968, -0.001017091330140829, 0.04076613858342171, 0.04120516777038574, -0.040617041289806366, -0.012485960498452187, -0.0065849702805280685, 0.029904376715421677, -0.01700259931385517, 0.03729354217648506, 0.023960236459970474, 0.0010004829382523894, 0.016990629956126213, 0.002903053304180503, -0.02635916881263256, -0.02637905441224575, -0.06335902959108353, -0.04512825608253479, -0.06034829095005989, -0.03298785164952278, -0.048508573323488235, -0.019359486177563667, 0.0671309307217598, -0.034008774906396866, 0.03618079051375389, -0.014995894394814968, -0.018399270251393318, -0.04525882378220558, -0.03411564975976944, 0.02915082685649395, 0.039297573268413544, 0.0653061494231224, -0.0438850000500679, 0.015697037801146507, -0.007600766606628895, 0.028535790741443634, -0.05395679920911789, -3.5577191738411784e-05, 0.015677999705076218, -0.010058158077299595, 0.02216072753071785, 0.005289564374834299, 0.0018231975845992565, -0.01354245562106371, -0.05570748448371887, -0.03405379876494408, -0.010185113176703453, 0.003968134056776762, 0.0051366849802434444, -0.010951935313642025, -0.04429623484611511, 0.015215499326586723, 0.0354495495557785, -0.028281349688768387, 0.04006997123360634, 0.012460658326745033, -0.042873334139585495, 0.03418036922812462, 0.013939340598881245, 0.0029786317609250546, -0.04517407715320587, 0.027542388066649437, 0.06862540543079376, 0.00603226525709033, -0.04791620373725891, -0.02164575085043907, -0.03789513558149338, 0.03986595943570137, 0.007679561618715525, -0.004408680368214846, -0.026296189054846764, -0.0056299977004528046, 0.04227523133158684, -0.08620785176753998, 0.01564975082874298, -0.05063948780298233, -0.046800680458545685, -0.044858235865831375, -0.025811344385147095, 0.024238500744104385, 0.01086318027228117, 0.009821325540542603, -0.0027907053008675575, -0.022579502314329147, -0.0015921705635264516, 0.0012373420177027583, 0.06374414265155792, -0.03598974645137787, 0.028491972014307976, 0.05017285421490669, -0.027676312252879143, 0.017100537195801735, 0.0455096997320652, -0.022993389517068863, 0.001159577164798975, 0.0123972212895751, -0.022929254919290543, 0.003152101533487439, 0.030225345864892006, 0.02393203228712082, 0.011381699703633785, 0.06307322531938553, -0.0045182169415056705, 0.014700586907565594, 0.004048994276672602, 0.03405013307929039, 0.02846158854663372, 0.027096176519989967, 0.018772268667817116, -0.017743049189448357, -0.01824992336332798, -0.045693881809711456, 0.027665505185723305, 0.011139500886201859, 0.046527475118637085, -0.06588941812515259, 0.026534514501690865, -0.0010449199471622705, -0.0528264120221138, 0.030843082815408707, -0.058414239436388016, 0.011462333612143993, 0.03615196421742439, -0.016476161777973175, 0.0518154576420784, -0.028448646888136864, 0.019458472728729248, -0.01767992414534092, 0.020914064720273018, 0.04053452983498573, 0.003804618725553155, 0.024907495826482773, -0.020199712365865707, 0.004229802638292313, -0.023937340825796127, -0.02218407206237316, -0.015892183408141136, -0.010842980816960335, 0.0035896303597837687, -0.004100710619240999, -0.049991365522146225, -0.06653290241956711, 0.026841571554541588, 0.027948511764407158, 0.042756419628858566, -0.009162208996713161, 0.035829268395900726, 0.03803107887506485, 0.033847831189632416, 0.04022691771388054, -0.03491845726966858, -0.005035822745412588, -0.04560374468564987, 0.06378292292356491, 0.02655632421374321, -0.010966434143483639, -0.0008403632091358304, -0.028800683096051216, -0.01716943085193634, 0.05364292860031128, -0.027398908510804176, -0.005680451635271311, -0.01805874891579151, 0.024968167766928673, -0.012699224054813385, 0.011940428987145424, -0.04613922908902168, -0.004138669464737177, -0.02366776391863823, 0.03736310824751854, 0.03183220699429512, -0.041387688368558884, 0.03305123746395111, -0.046361587941646576, 0.050350386649370193, 0.04382698982954025, 0.013702926225960255, -0.03561888635158539, -0.020902032032608986, -0.04517653211951256, -0.022030387073755264, -0.007705623749643564, 0.0390741340816021, -0.014516103081405163, 0.0008335803868249059, -0.04180288314819336, 0.04536043480038643, 0.013272260315716267, -0.009850136935710907, -0.008298018015921116, 0.0041891708970069885, 0.017126765102148056, 0.003005668520927429, 0.051350150257349014, -0.009250922128558159, -0.036622416228055954, 0.030188383534550667, -0.06351515650749207, 0.01709197647869587, 0.013615163043141365, -0.0214556772261858, -0.009284608997404575, 0.046488042920827866, 0.035153090953826904, 0.043005816638469696, -0.014491849578917027, -0.0039058004040271044, -0.0207303985953331, 0.026183687150478363, -0.04718443378806114, -0.034380361437797546, 0.03712274879217148, -0.003299039788544178, -0.04130767285823822, 0.04390919208526611, 0.03250310942530632, -0.03704794868826866, 0.03309042751789093, -0.004899376537650824, -0.038721561431884766, 0.042447514832019806, -0.029559750109910965, 0.020742284134030342, -0.013495583087205887, -0.0398869514465332, 0.022400785237550735, -0.019565943628549576, 0.055304232984781265, -0.014141657389700413, -0.023191846907138824, -0.018547700718045235, -0.057752784341573715, -0.026396967470645905, -0.017136527225375175, -0.03190047666430473, 0.0211431086063385, 0.027880949899554253, -0.047797489911317825, 0.0005402500391937792, 0.010596864856779575, -0.001024015829898417, 0.01222406979650259, -0.016221540048718452, -0.002638916950672865, 0.027683889493346214, 0.010403568856418133, 0.015570583753287792, 0.0026299685705453157, -0.03403273969888687, 0.013638339936733246, -0.011550640687346458, -0.006916983984410763, -0.05653204768896103, 0.0010781449964269996, -0.021562006324529648, -0.00186770164873451, -0.03615264967083931, 0.016721490770578384, -0.021016808226704597, -0.006836988497525454, 0.035495925694704056, 0.020069625228643417, 0.006125046405941248, 0.008826253935694695, -0.030188357457518578, 0.0507991686463356, 0.031788427382707596, -0.052180301398038864, -0.025028996169567108, 0.05391892045736313, 0.004171075765043497, 0.028951063752174377, 0.03004496358335018, -0.025408288463950157, -0.03802881017327309, -0.07353734970092773, 0.03189739212393761, -0.03643564507365227, -0.028835488483309746, -0.04368166625499725, -0.03022513911128044, -0.02822747454047203, 0.04122687131166458, 0.028436338528990746, -0.008087254129350185, 0.0002387930580880493, -0.046586278825998306, 0.02363228052854538, -0.03793928772211075, -0.01095890998840332, -0.03583144396543503, -0.024436773732304573, -0.013514887541532516, 0.06916594505310059, 0.016898898407816887, 0.028877798467874527, 0.020957771688699722, 0.018254518508911133, 0.009090929292142391, -0.019814714789390564, -0.03692559897899628, -0.03814535588026047, 0.01469726674258709, 0.014680774882435799, -0.009452728554606438, 0.02669883519411087, -0.04748034477233887, 0.06418605148792267, -0.03492678329348564, -0.0172274112701416, 0.002580324886366725, 0.022874485701322556, 0.0005324928788468242, -0.0016713078366592526, 0.05414999648928642, -0.03831944614648819, 0.02042802982032299, -0.014647155068814754, 0.04099453240633011, 0.022291187196969986, -0.017329134047031403, -0.012330307625234127, -0.03200863301753998, -0.07891969382762909, -0.07611202448606491, 0.01482763048261404, -0.044347140938043594, -0.04109472408890724, -0.020291313529014587, -0.017849236726760864, 0.04303891956806183, -0.03303954005241394, 0.04661484435200691, 0.07496634870767593, 0.0020007325801998377, -0.0062474398873746395, -0.009503744542598724, 0.013736812397837639, 0.050573594868183136, -0.05092928931117058, -0.015472952276468277, -0.021612634882330894, -0.0044448887929320335, 0.006823865696787834, -0.03777405247092247, -0.035429567098617554, -0.06300501525402069, 0.00037259922828525305, 0.06345901638269424, -0.02072795480489731, 0.04698759689927101, 0.005925033241510391, -0.06471999734640121, -0.042578794062137604, 0.035149358212947845, -0.015410966239869595, 0.0400676392018795, 0.046519454568624496, -0.01342827919870615, -0.024728117510676384, 0.008002466522157192, -0.013366680592298508, 0.006255671847611666, -0.06990141421556473, 0.059693846851587296, -0.0025928944814950228, -0.043894968926906586, 0.006994588300585747, 0.044845908880233765, -0.057698849588632584, -0.04069411754608154, 0.005852528382092714, 0.02302194945514202, 0.008412706665694714, -0.03222956880927086, 0.013073856942355633, -0.023412391543388367, -0.005926396232098341, 0.0006234330357983708, 0.008480948396027088, -0.002449149265885353, 0.03952866792678833, 0.0018417665269225836, 0.021902039647102356, -0.027649514377117157, 0.011800956912338734, 0.013350670225918293, -0.007105535361915827, -0.025999832898378372, -0.057748787105083466, 0.0005838274373672903, -0.015542165376245975, 0.00919498223811388, 0.04730353131890297, -0.017226211726665497, 0.007313854061067104, 0.02739950455725193, 0.012331497855484486, 0.06339703500270844, 0.0014393209712579846, -0.005214827135205269, 0.011801201850175858, -0.034712210297584534, -0.05187729001045227, -0.0362279899418354, 0.028190305456519127, -0.022794753313064575, -0.009385901503264904, -0.04902731254696846, 0.006335716228932142, 0.03962083160877228, 0.011923225596547127, 0.004846873227506876, -0.04838349297642708, -0.048755038529634476, -0.04050791263580322, -0.044077154248952866, -0.02655925042927265, -0.02181907556951046, -0.010053243488073349, 0.03395136073231697, 0.025340277701616287, -0.03339833766222, 0.01077574398368597, 0.009954994544386864, -0.007958061061799526, 0.007982965558767319, -0.02731712907552719, 0.01416584849357605, -0.06553690135478973, -0.036873333156108856, -0.03457140550017357, -0.0113901998847723, -0.014934814535081387, 0.011020381934940815, 0.003783288411796093, 0.0289364755153656, 0.003948096185922623, 0.03057442419230938, -0.005565352272242308, 0.005857779644429684, -0.013783231377601624, -0.036748141050338745, 0.005064091645181179, 0.030629055574536324, -0.022516535595059395, 0.0036225756630301476, 0.039219655096530914, -0.02404780127108097, 0.03233221918344498, -0.017271986231207848, -0.04058755934238434, -0.033521104604005814, 0.024679293856024742, 0.014397195540368557, 0.009705858305096626, -0.00965439435094595, -0.014855876564979553, -0.0017459699884057045, -0.0591355599462986, 0.015721743926405907, -0.0016388637013733387, 0.013964945450425148, 0.008781544864177704, -0.03972180560231209, -0.011738006956875324, 0.05316567048430443, -0.007922559976577759, 0.00646494934335351, 0.006807719357311726, 0.011773104779422283, 0.028587641194462776, 0.001364559167996049, 0.047955553978681564, 0.012903427705168724, 0.06838814914226532, -0.016472335904836655, -0.018750224262475967, 0.017875900492072105, -0.012285728007555008, 0.023733869194984436, -0.018317122012376785, -0.025212818756699562, -0.04212717339396477, -0.006873553153127432, -0.013280266895890236, 0.06262542307376862, 0.009015615098178387, 0.010182148776948452, 0.014147593639791012, -0.025852927938103676, -0.038420673459768295, 0.007566006388515234, -0.055160120129585266, -0.034020062536001205, 0.043880585581064224, -0.03153222054243088, -0.020397065207362175, -0.013357392512261868, -0.02980128861963749, -0.017554871737957, -0.023324403911828995, -0.022864310070872307, -0.029552428051829338, 0.01005450077354908, -0.024885399267077446, 0.04982101172208786, -0.038664788007736206, 0.022660208866000175, 0.011753987520933151, 0.071424201130867, -0.04959851875901222, -0.05436244234442711, 0.0216505229473114, 0.030662095174193382, -0.006897958926856518, -0.003022375050932169, -0.000681679870467633, 0.009908812120556831, -0.010594038292765617, 0.004638815298676491, 0.022466937080025673, 0.014442140236496925, 0.016025125980377197, 0.03753167763352394, 0.016557222232222557, 0.027160825207829475, -0.025920584797859192, 0.03265824168920517, 0.007084875367581844, -0.02473597601056099, -0.01986379735171795, 0.016300590708851814, 0.02625141851603985, -0.01995208114385605, 0.06053190678358078, 0.03855476528406143, 0.05397221818566322, 0.01447075605392456, -0.0028581381775438786, -0.002963667968288064, 0.051715608686208725, 0.04678153619170189, 0.0046860817819833755, -0.039246466010808945, 0.023525550961494446, 0.052582062780857086, 0.009525413624942303, -0.0029951625037938356, -0.018319467082619667, 0.020554138347506523, -0.02309797704219818, -0.013404075987637043, -0.01958739571273327, 0.0018383614951744676, 0.0034838030114769936, -0.04803803935647011, -0.00945591926574707, -0.04559565335512161, -0.0036629210226237774, -0.02634655311703682, -0.037264931946992874, 0.04249820113182068, -0.02866252325475216, -0.008130082860589027, 0.0021348269656300545, -0.008565525524318218, 0.021119242534041405, 0.0173410102725029, 0.020726630464196205, 0.0011430110316723585, 0.05195918679237366, 0.03719591349363327, -0.0071066622622311115, 0.0407746322453022, 0.008393649011850357, -0.006300024222582579, -0.060898639261722565, 0.03153497353196144, 0.018951695412397385, -0.0052305045537650585, -0.025009028613567352, 0.00276205874979496, -0.037873756140470505, 0.026051605120301247, -0.02076021209359169, -0.017359083518385887, 0.03816349431872368, -0.048454541712999344, 0.01631101779639721, -0.034049298614263535, 0.018946006894111633, -0.03315227851271629, 0.014578446745872498, 0.054190900176763535, -0.005251258611679077, -0.030210284516215324, 0.05540821701288223, -0.017009936273097992, 0.02432379499077797, 0.001352912513539195, 0.04657258093357086, -0.03679845482110977, 0.040974561125040054, 0.06009748950600624, -0.04419514909386635, -0.015917513519525528, -0.002383181359618902, -0.028267530724406242, -0.04320341348648071, -0.005251175723969936, -0.05663341283798218, -0.0066169812344014645, -0.0050580184906721115, 0.0074055991135537624, -0.006112576927989721, 0.03076670505106449, 0.010914916172623634, -0.07174394279718399, 0.015611272305250168, 0.045385394245386124, -0.045670755207538605, 0.007615943439304829, 0.0013257629470899701, 0.041923705488443375, 0.008192642591893673, -0.02023385651409626, -0.02548973448574543, -0.0422518253326416, 0.0030538716819137335, -0.07723365724086761, 0.05065961554646492, -0.021862534806132317, -0.013713959604501724, -0.06182616576552391, -0.07143618911504745, -0.0038882193621248007, 0.013971110805869102, -0.04298733174800873, -0.04007234051823616, 0.03935880586504936, 0.05970700457692146, 0.007730207405984402, 0.021837694570422173, -0.016338465735316277, -0.03756030648946762, 0.046676889061927795, 0.06201096996665001, -0.0033762624952942133, 0.03343437612056732, 0.016628392040729523, 0.008453580550849438, 0.026967598125338554, -0.04808412492275238, 0.03342374786734581, -0.026473237201571465, -0.031184101477265358, -0.034355949610471725, 0.0274388138204813, -0.02403414435684681, -0.07056471705436707, 0.03482358530163765, 0.025993380695581436, 0.00012574375432450324, -0.03716187924146652, -0.07226269692182541, -0.0075041609816253185, -0.04988522455096245, -0.008441935293376446, -0.05256189778447151, 0.0120944669470191, 0.017760057002305984, -0.015217596665024757, 0.009347615763545036, -0.0622028224170208, 0.1333368718624115, 0.0524473637342453, 0.028318122029304504, 0.003581858007237315, 0.027341526001691818, 0.0624852329492569, 0.0172377061098814, -0.02845548279583454, -0.002471664221957326, -0.027412759140133858, 0.03242797404527664, -0.0052500320598483086, 0.026255344972014427, 0.01412174478173256, 0.01122884452342987, 0.05201863870024681, -0.03146591782569885, 0.004083170555531979, 0.007752114906907082, -0.044359590858221054, -0.04144604504108429, 0.031490836292505264, 0.018302500247955322, 0.033605605363845825, -0.010666872374713421, 0.005390448495745659, 0.035964205861091614, -0.04925064742565155, -0.03440314158797264, -0.024900047108530998, 0.013419912196695805, -0.020304517820477486, 0.05706499144434929, -0.022580906748771667, -0.04689403623342514, 0.04010077938437462, -0.017584459856152534, -0.035746652632951736, 0.020431840792298317, 0.010658339597284794, -0.05212734639644623, -0.007575643714517355, 0.040969010442495346, -0.039830341935157776, 0.03186275437474251, 0.018386946991086006, -0.03461132198572159, 0.007412913721054792, 0.01329799834638834, -0.04166357219219208, 0.045483846217393875, -0.03907649219036102, 0.01680631749331951, -0.023015979677438736, -0.025776440277695656, 0.015857689082622528, 0.015114957466721535, -0.029011044651269913, -0.01837890036404133, 0.0062699271366000175, 0.008141296915709972, -0.0052857534028589725, -0.007507853209972382, -0.0003090008976869285, -0.03432321548461914, 0.0033557601273059845, 0.03293176367878914, 0.034616075456142426, 0.006890568882226944, 0.0070940228179097176, -0.014072734862565994, 0.005014600697904825, -0.02657306380569935, -0.05170099437236786, 0.018382519483566284, 0.03921069577336311, -0.025062913075089455, 0.03796495124697685, 0.01785420998930931, 0.008009753189980984, 0.001265861326828599, -0.026767170056700706, 0.017753828316926956, 0.00020943518029525876, -0.00647741137072444, 0.03871439769864082, -0.03985298424959183, -0.030480090528726578, -0.040205638855695724, 0.0505533367395401, 0.04314413294196129, 0.003992813639342785, -0.0004680985293816775, 0.0175221748650074, -0.02466456964612007]\n"
     ]
    }
   ],
   "source": [
    "print(embedding_1)"
   ]
  },
  {
   "cell_type": "markdown",
   "metadata": {
    "id": "qiKCOv4X0d7B"
   },
   "source": [
    "### Vector Database"
   ]
  },
  {
   "cell_type": "code",
   "execution_count": 43,
   "metadata": {
    "executionInfo": {
     "elapsed": 11,
     "status": "ok",
     "timestamp": 1754802929745,
     "user": {
      "displayName": "Neha Mishra",
      "userId": "05638810250137303527"
     },
     "user_tz": 300
    },
    "id": "vHHt1MQQRVzs"
   },
   "outputs": [],
   "source": [
    "out_dir = 'medical_diagnosis_db'\n",
    "\n",
    "if not os.path.exists(out_dir):\n",
    "  os.makedirs(out_dir)"
   ]
  },
  {
   "cell_type": "code",
   "execution_count": 44,
   "metadata": {
    "executionInfo": {
     "elapsed": 654859,
     "status": "ok",
     "timestamp": 1754803586963,
     "user": {
      "displayName": "Neha Mishra",
      "userId": "05638810250137303527"
     },
     "user_tz": 300
    },
    "id": "Hv2G0ImE3YEM"
   },
   "outputs": [],
   "source": [
    "vectorstore = Chroma.from_documents(\n",
    "    document_chunks,\n",
    "    embedding_model,\n",
    "    persist_directory=out_dir\n",
    ")"
   ]
  },
  {
   "cell_type": "code",
   "execution_count": 45,
   "metadata": {
    "executionInfo": {
     "elapsed": 7,
     "status": "ok",
     "timestamp": 1754803638030,
     "user": {
      "displayName": "Neha Mishra",
      "userId": "05638810250137303527"
     },
     "user_tz": 300
    },
    "id": "KGefDH-k3Ye7"
   },
   "outputs": [],
   "source": [
    "vectorstore = Chroma(persist_directory=out_dir,embedding_function=embedding_model)"
   ]
  },
  {
   "cell_type": "code",
   "execution_count": 46,
   "metadata": {
    "colab": {
     "base_uri": "https://localhost:8080/"
    },
    "executionInfo": {
     "elapsed": 11,
     "status": "ok",
     "timestamp": 1754803639840,
     "user": {
      "displayName": "Neha Mishra",
      "userId": "05638810250137303527"
     },
     "user_tz": 300
    },
    "id": "G1ZBqK2l3bwE",
    "outputId": "be7a5587-9b61-4802-9e5e-b2a4fafff7f9"
   },
   "outputs": [
    {
     "data": {
      "text/plain": [
       "HuggingFaceEmbeddings(client=SentenceTransformer(\n",
       "  (0): Transformer({'max_seq_length': 512, 'do_lower_case': False}) with Transformer model: BertModel \n",
       "  (1): Pooling({'word_embedding_dimension': 1024, 'pooling_mode_cls_token': False, 'pooling_mode_mean_tokens': True, 'pooling_mode_max_tokens': False, 'pooling_mode_mean_sqrt_len_tokens': False, 'pooling_mode_weightedmean_tokens': False, 'pooling_mode_lasttoken': False})\n",
       "  (2): Normalize()\n",
       "), model_name='thenlper/gte-large', cache_folder=None, model_kwargs={}, encode_kwargs={}, multi_process=False)"
      ]
     },
     "execution_count": 46,
     "metadata": {},
     "output_type": "execute_result"
    }
   ],
   "source": [
    "vectorstore.embeddings"
   ]
  },
  {
   "cell_type": "markdown",
   "metadata": {
    "id": "uEa5sKc41T1z"
   },
   "source": [
    "### Retriever"
   ]
  },
  {
   "cell_type": "code",
   "execution_count": 47,
   "metadata": {
    "executionInfo": {
     "elapsed": 17,
     "status": "ok",
     "timestamp": 1754803642138,
     "user": {
      "displayName": "Neha Mishra",
      "userId": "05638810250137303527"
     },
     "user_tz": 300
    },
    "id": "wBlQUGx3RWUD"
   },
   "outputs": [],
   "source": [
    "retriever = vectorstore.as_retriever(\n",
    "    search_type='similarity',\n",
    "    search_kwargs={'k': 2}\n",
    ")"
   ]
  },
  {
   "cell_type": "code",
   "execution_count": 48,
   "metadata": {
    "colab": {
     "base_uri": "https://localhost:8080/"
    },
    "executionInfo": {
     "elapsed": 103,
     "status": "ok",
     "timestamp": 1754803643757,
     "user": {
      "displayName": "Neha Mishra",
      "userId": "05638810250137303527"
     },
     "user_tz": 300
    },
    "id": "RbOAoVyn5bHY",
    "outputId": "608fcdb0-81c2-4c76-e2d9-67910d66654f"
   },
   "outputs": [
    {
     "data": {
      "text/plain": [
       "[Document(page_content=\"16 - Critical Care Medicine\\nChapter 222. Approach to the Critically Ill Patient\\nIntroduction\\nCritical care medicine specializes in caring for the most seriously ill patients. These patients are best\\ntreated in an ICU staffed by experienced personnel. Some hospitals maintain separate units for special\\npopulations (eg, cardiac, surgical, neurologic, pediatric, or neonatal patients). ICUs have a high\\nnurse:patient ratio to provide the necessary high intensity of service, including treatment and monitoring\\nof physiologic parameters.\\nSupportive care for the ICU patient includes provision of adequate nutrition (see p. 21) and prevention of\\ninfection, stress ulcers and gastritis (see p. 131), and pulmonary embolism (see p. 1920). Because 15 to\\n25% of patients admitted to ICUs die there, physicians should know how to minimize suffering and help\\ndying patients maintain dignity (see p. 3480).\\nPatient Monitoring and Testing\\nSome monitoring is manual (ie, by direct observation and physical examination) and intermittent, with the\\nfrequency depending on the patient's illness. This monitoring usually includes measurement of vital signs\\n(temperature, BP, pulse, and respiration rate), quantification of all fluid intake and output, and often daily\\nweight. BP may be recorded by an automated sphygmomanometer; a transcutaneous sensor for pulse\\noximetry is used as well.\\nOther monitoring is ongoing and continuous, provided by complex devices that require special training\\nand experience to operate. Most such devices generate an alarm if certain physiologic parameters are\\nexceeded. Every ICU should strictly follow protocols for investigating alarms.\\nBlood Tests\\nAlthough frequent blood draws can destroy veins, cause pain, and lead to anemia, ICU patients typically\\nhave routine daily blood tests to help detect problems early. Generally, patients need a daily set of\\nelectrolytes and a CBC. Patients with arrhythmias should also have Mg, phosphate, and Ca levels\\nmeasured. Patients receiving TPN need weekly liver enzymes and coagulation profiles. Other tests (eg,\\nblood culture for fever, CBC after a bleeding episode) are done as needed.\\nPoint-of-care testing uses miniaturized, highly automated devices to do certain blood tests at the patient's\\nbedside or unit (particularly ICU, emergency department, and operating room). Commonly available tests\", metadata={'author': '', 'creationDate': 'D:20120615054440Z', 'creator': 'Atop CHM to PDF Converter', 'file_path': '/content/drive/MyDrive/Colab Notebooks/Projects/NLP/medical_diagnosis_manual.pdf', 'format': 'PDF 1.7', 'keywords': '', 'modDate': 'D:20250807211256Z', 'page': 2400, 'producer': 'pdf-lib (https://github.com/Hopding/pdf-lib)', 'source': '/content/drive/MyDrive/Colab Notebooks/Projects/NLP/medical_diagnosis_manual.pdf', 'subject': '', 'title': 'The Merck Manual of Diagnosis & Therapy, 19th Edition', 'total_pages': 4114, 'trapped': ''}),\n",
       " Document(page_content=\"16 - Critical Care Medicine\\nChapter 222. Approach to the Critically Ill Patient\\nIntroduction\\nCritical care medicine specializes in caring for the most seriously ill patients. These patients are best\\ntreated in an ICU staffed by experienced personnel. Some hospitals maintain separate units for special\\npopulations (eg, cardiac, surgical, neurologic, pediatric, or neonatal patients). ICUs have a high\\nnurse:patient ratio to provide the necessary high intensity of service, including treatment and monitoring\\nof physiologic parameters.\\nSupportive care for the ICU patient includes provision of adequate nutrition (see p. 21) and prevention of\\ninfection, stress ulcers and gastritis (see p. 131), and pulmonary embolism (see p. 1920). Because 15 to\\n25% of patients admitted to ICUs die there, physicians should know how to minimize suffering and help\\ndying patients maintain dignity (see p. 3480).\\nPatient Monitoring and Testing\\nSome monitoring is manual (ie, by direct observation and physical examination) and intermittent, with the\\nfrequency depending on the patient's illness. This monitoring usually includes measurement of vital signs\\n(temperature, BP, pulse, and respiration rate), quantification of all fluid intake and output, and often daily\\nweight. BP may be recorded by an automated sphygmomanometer; a transcutaneous sensor for pulse\\noximetry is used as well.\\nOther monitoring is ongoing and continuous, provided by complex devices that require special training\\nand experience to operate. Most such devices generate an alarm if certain physiologic parameters are\\nexceeded. Every ICU should strictly follow protocols for investigating alarms.\\nBlood Tests\\nAlthough frequent blood draws can destroy veins, cause pain, and lead to anemia, ICU patients typically\\nhave routine daily blood tests to help detect problems early. Generally, patients need a daily set of\\nelectrolytes and a CBC. Patients with arrhythmias should also have Mg, phosphate, and Ca levels\\nmeasured. Patients receiving TPN need weekly liver enzymes and coagulation profiles. Other tests (eg,\\nblood culture for fever, CBC after a bleeding episode) are done as needed.\\nPoint-of-care testing uses miniaturized, highly automated devices to do certain blood tests at the patient's\\nbedside or unit (particularly ICU, emergency department, and operating room). Commonly available tests\", metadata={'author': '', 'creationDate': 'D:20120615054440Z', 'creator': 'Atop CHM to PDF Converter', 'file_path': '/content/drive/MyDrive/Colab Notebooks/Projects/NLP/medical_diagnosis_manual.pdf', 'format': 'PDF 1.7', 'keywords': '', 'modDate': 'D:20250807211256Z', 'page': 2400, 'producer': 'pdf-lib (https://github.com/Hopding/pdf-lib)', 'source': '/content/drive/MyDrive/Colab Notebooks/Projects/NLP/medical_diagnosis_manual.pdf', 'subject': '', 'title': 'The Merck Manual of Diagnosis & Therapy, 19th Edition', 'total_pages': 4114, 'trapped': ''})]"
      ]
     },
     "execution_count": 48,
     "metadata": {},
     "output_type": "execute_result"
    }
   ],
   "source": [
    "rel_docs = retriever.get_relevant_documents(query= 'What is the protocol for managing sepsis in a critical care unit?')\n",
    "rel_docs"
   ]
  },
  {
   "cell_type": "markdown",
   "metadata": {
    "id": "vw8qcwq66B0C",
    "nteract": {
     "transient": {
      "deleting": false
     }
    }
   },
   "source": [
    "### System and User Prompt Template"
   ]
  },
  {
   "cell_type": "markdown",
   "metadata": {
    "id": "U-Af8oxh6_EN"
   },
   "source": [
    "1. The system message describing the assistant's role.\n",
    "2. A user message template including context and the question."
   ]
  },
  {
   "cell_type": "code",
   "execution_count": 49,
   "metadata": {
    "executionInfo": {
     "elapsed": 41,
     "status": "ok",
     "timestamp": 1754803657838,
     "user": {
      "displayName": "Neha Mishra",
      "userId": "05638810250137303527"
     },
     "user_tz": 300
    },
    "id": "GF_4399TRW5D"
   },
   "outputs": [],
   "source": [
    "qna_system_message = \"\"\"\n",
    "You are an medical assistant whose work is to review the report and provide the appropriate answers from the context.\n",
    "User input will have the context required by you to answer user questions.\n",
    "This context will begin with the token: ###Context.\n",
    "The context contains references to specific portions of a document relevant to the user query.\n",
    "\n",
    "User questions will begin with the token: ###Question.\n",
    "\n",
    "Please answer only using the context provided in the input. Do not mention anything about the context in your final answer.\n",
    "\n",
    "If the answer is not found in the context, respond \"I don't know\".\n",
    "\"\"\""
   ]
  },
  {
   "cell_type": "code",
   "execution_count": 50,
   "metadata": {
    "executionInfo": {
     "elapsed": 19,
     "status": "ok",
     "timestamp": 1754803659517,
     "user": {
      "displayName": "Neha Mishra",
      "userId": "05638810250137303527"
     },
     "user_tz": 300
    },
    "id": "LQ7-ISP87CgW"
   },
   "outputs": [],
   "source": [
    "qna_user_message_template = \"\"\"\n",
    "###Context\n",
    "Here are some documents that are relevant to the question mentioned below.\n",
    "{context}\n",
    "\n",
    "###Question\n",
    "{question}\n",
    "\"\"\""
   ]
  },
  {
   "cell_type": "markdown",
   "metadata": {
    "id": "TkIteX4m6mny"
   },
   "source": [
    "### Response Function"
   ]
  },
  {
   "cell_type": "code",
   "execution_count": 51,
   "metadata": {
    "executionInfo": {
     "elapsed": 17,
     "status": "ok",
     "timestamp": 1754803673309,
     "user": {
      "displayName": "Neha Mishra",
      "userId": "05638810250137303527"
     },
     "user_tz": 300
    },
    "id": "5jFvGnOJRXZx"
   },
   "outputs": [],
   "source": [
    "def generate_rag_response(user_input,k=3,max_tokens=128,temperature=0,top_p=0.95,top_k=50):\n",
    "    global qna_system_message,qna_user_message_template\n",
    "    # Retrieve relevant document chunks\n",
    "    relevant_document_chunks = retriever.get_relevant_documents(query=user_input,k=k)\n",
    "    context_list = [d.page_content for d in relevant_document_chunks]\n",
    "\n",
    "    # Combine document chunks into a single context\n",
    "    context_for_query = \". \".join(context_list)\n",
    "\n",
    "    user_message = qna_user_message_template.replace('{context}', context_for_query)\n",
    "    user_message = user_message.replace('{question}', user_input)\n",
    "\n",
    "    prompt = qna_system_message + '\\n' + user_message\n",
    "\n",
    "    # Generate the response\n",
    "    try:\n",
    "        response = llm(\n",
    "                  prompt=prompt,\n",
    "                  max_tokens=max_tokens,\n",
    "                  temperature=temperature,\n",
    "                  top_p=top_p,\n",
    "                  top_k=top_k\n",
    "                  )\n",
    "\n",
    "        # Extract and print the model's response\n",
    "        response = response['choices'][0]['text'].strip()\n",
    "    except Exception as e:\n",
    "        response = f'Sorry, I encountered the following error: \\n {e}'\n",
    "\n",
    "    return response"
   ]
  },
  {
   "cell_type": "markdown",
   "metadata": {
    "id": "ffP1SRYbPQHN"
   },
   "source": [
    "## Question Answering using RAG"
   ]
  },
  {
   "cell_type": "markdown",
   "metadata": {
    "id": "JjajBEj06B0E"
   },
   "source": [
    "\n",
    "\n",
    "```\n",
    "# This is formatted as code\n",
    "```\n",
    "\n",
    "### Query 1: What is the protocol for managing sepsis in a critical care unit?"
   ]
  },
  {
   "cell_type": "code",
   "execution_count": 52,
   "metadata": {
    "colab": {
     "base_uri": "https://localhost:8080/"
    },
    "executionInfo": {
     "elapsed": 16528,
     "status": "ok",
     "timestamp": 1754803698136,
     "user": {
      "displayName": "Neha Mishra",
      "userId": "05638810250137303527"
     },
     "user_tz": 300
    },
    "id": "Nlo9sMpPRbTP",
    "outputId": "29b63f98-e6f2-450e-a740-9a926f4eed99"
   },
   "outputs": [
    {
     "name": "stderr",
     "output_type": "stream",
     "text": [
      "Llama.generate: prefix-match hit\n"
     ]
    },
    {
     "name": "stdout",
     "output_type": "stream",
     "text": [
      "I don't know. The context does not provide information on the protocol for managing sepsis in a critical care unit.\n"
     ]
    }
   ],
   "source": [
    "user_input = \"What is the protocol for managing sepsis in a critical care unit?\"\n",
    "print(generate_rag_response(user_input))"
   ]
  },
  {
   "cell_type": "markdown",
   "metadata": {
    "id": "QDw8zXuq6B0F"
   },
   "source": [
    "### Query 2: What are the common symptoms for appendicitis, and can it be cured via medicine? If not, what surgical procedure should be followed to treat it?"
   ]
  },
  {
   "cell_type": "code",
   "execution_count": 53,
   "metadata": {
    "colab": {
     "base_uri": "https://localhost:8080/"
    },
    "executionInfo": {
     "elapsed": 24372,
     "status": "ok",
     "timestamp": 1754803727113,
     "user": {
      "displayName": "Neha Mishra",
      "userId": "05638810250137303527"
     },
     "user_tz": 300
    },
    "id": "PVReF4G8RbzR",
    "outputId": "ca059ba6-1099-45c3-ee8c-1df2bd560759"
   },
   "outputs": [
    {
     "name": "stderr",
     "output_type": "stream",
     "text": [
      "Llama.generate: prefix-match hit\n"
     ]
    },
    {
     "name": "stdout",
     "output_type": "stream",
     "text": [
      "The common symptoms for appendicitis include pain in the lower right abdomen, loss of appetite, nausea or vomiting, fever, and a feeling of being sick. Appendicitis cannot be cured via medicine alone as it requires surgical removal of the appendix. The treatment for appendicitis is open or laparoscopic appendectomy.\n"
     ]
    }
   ],
   "source": [
    "user_input2 = \"What are the common symptoms for appendicitis, and can it be cured via medicine? If not, what surgical procedure should be followed to treat it?\"\n",
    "print(generate_rag_response(user_input2))"
   ]
  },
  {
   "cell_type": "markdown",
   "metadata": {
    "id": "TggYyQPL6B0G"
   },
   "source": [
    "### Query 3: What are the effective treatments or solutions for addressing sudden patchy hair loss, commonly seen as localized bald spots on the scalp, and what could be the possible causes behind it?"
   ]
  },
  {
   "cell_type": "code",
   "execution_count": 54,
   "metadata": {
    "colab": {
     "base_uri": "https://localhost:8080/"
    },
    "executionInfo": {
     "elapsed": 44176,
     "status": "ok",
     "timestamp": 1754803853645,
     "user": {
      "displayName": "Neha Mishra",
      "userId": "05638810250137303527"
     },
     "user_tz": 300
    },
    "id": "0aRbadGtRcX0",
    "outputId": "f5e101b4-1d24-44a7-9206-42b2d9e17dfe"
   },
   "outputs": [
    {
     "name": "stderr",
     "output_type": "stream",
     "text": [
      "Llama.generate: prefix-match hit\n"
     ]
    },
    {
     "name": "stdout",
     "output_type": "stream",
     "text": [
      "Based on the context provided, the condition being described is Alopecia Areata. The context mentions that it is a sudden patchy hair loss in people with no obvious skin or systemic disorder. It also states that alopecia areata is thought to be an autoimmune disorder affecting genetically susceptible people exposed to unclear environmental triggers.\n",
      "\n",
      "The effective treatments or solutions for addressing sudden patchy hair loss, as mentioned in the context, include corticosteroids, retinoids, or immunosuppressants. These medications are used to help reduce inflammation and suppress the immune system's attack on the hair follicles. However, it is important to note that these treatments may not work for everyone and their effectiveness can vary from person to person.\n",
      "\n",
      "Therefore, the answer to the user question would be: The effective treatments or solutions for addressing sudden patchy hair loss include corticosteroids, retinoids, or immunosuppressants. These medications are used to help reduce inflammation and suppress the immune system's attack on the hair follicles. However, their effectiveness can vary from person to person. The possible causes behind this condition are thought to be an autoimmune disorder affecting genetically susceptible people exposed to unclear environmental triggers.\n"
     ]
    }
   ],
   "source": [
    "user_input3 = \"What are the effective treatments or solutions for addressing sudden patchy hair loss, commonly seen as localized bald spots on the scalp, and what could be the possible causes behind it?\"\n",
    "print(generate_rag_response(user_input3, max_tokens=512))"
   ]
  },
  {
   "cell_type": "markdown",
   "metadata": {
    "id": "1TgxdI-_6B0G"
   },
   "source": [
    "### Query 4:  What treatments are recommended for a person who has sustained a physical injury to brain tissue, resulting in temporary or permanent impairment of brain function?"
   ]
  },
  {
   "cell_type": "code",
   "execution_count": 55,
   "metadata": {
    "colab": {
     "base_uri": "https://localhost:8080/"
    },
    "executionInfo": {
     "elapsed": 71164,
     "status": "ok",
     "timestamp": 1754803945880,
     "user": {
      "displayName": "Neha Mishra",
      "userId": "05638810250137303527"
     },
     "user_tz": 300
    },
    "id": "0vzRX1TcRc29",
    "outputId": "6898b657-6e5f-40fa-db1d-e16076dbbb76"
   },
   "outputs": [
    {
     "name": "stderr",
     "output_type": "stream",
     "text": [
      "Llama.generate: prefix-match hit\n"
     ]
    },
    {
     "name": "stdout",
     "output_type": "stream",
     "text": [
      "I. Initial treatment includes ensuring a reliable airway, maintaining adequate ventilation, oxygenation, and blood pressure, as well as surgery if needed for monitoring intracranial pressure, decompression, or removal of hematomas. In the first few days after the injury, maintaining adequate brain perfusion and oxygenation and preventing complications of altered sensorium are important. Subsequently, many patients require rehabilitation.\n",
      "II. In the US, TBI is a common cause of death and disability, with causes including motor vehicle crashes, falls, assaults, and sports activities. The structural changes from head injury may be gross or microscopic, depending on the mechanism and forces involved. Clinical manifestations vary in severity and consequences. Injuries are commonly categorized as open or closed.\n",
      "III. Open injuries involve penetration of the scalp and skull (and usually the meninges and underlying brain tissue) and typically involve bullets or sharp objects, but a skull fracture with overlying laceration due to severe blunt force is also considered an open injury. Closed injuries occur when the head is struck, strikes an object, or is shaken violently, causing rapid brain acceleration and deceleration. Acceleration or deceleration can injure tissue at the point of impact (coup), at its opposite pole (contrecoup), or diffusely; the frontal and temporal lobes are particularly vulnerable. Axons, blood vessels, or both can be sheared or torn, causing contusions, intracerebral or subarachnoid hemorrhage, and epidural or subdural hematomas.\n"
     ]
    }
   ],
   "source": [
    "user_input4 = \"What treatments are recommended for a person who has sustained a physical injury to brain tissue, resulting in temporary or permanent impairment of brain function?\"\n",
    "print(generate_rag_response(user_input4, max_tokens=512, temperature=0.9))"
   ]
  },
  {
   "cell_type": "markdown",
   "metadata": {
    "id": "FlHXYCkm6B0H"
   },
   "source": [
    "### Query 5: What are the necessary precautions and treatment steps for a person who has fractured their leg during a hiking trip, and what should be considered for their care and recovery?"
   ]
  },
  {
   "cell_type": "code",
   "execution_count": 56,
   "metadata": {
    "colab": {
     "base_uri": "https://localhost:8080/"
    },
    "executionInfo": {
     "elapsed": 22698,
     "status": "ok",
     "timestamp": 1754803981188,
     "user": {
      "displayName": "Neha Mishra",
      "userId": "05638810250137303527"
     },
     "user_tz": 300
    },
    "id": "sarpUibcRdhq",
    "outputId": "21f1b914-be40-4e8e-fddd-c802f7ee932b"
   },
   "outputs": [
    {
     "name": "stderr",
     "output_type": "stream",
     "text": [
      "Llama.generate: prefix-match hit\n"
     ]
    },
    {
     "name": "stdout",
     "output_type": "stream",
     "text": [
      "Based on the context provided, here's the answer:\n",
      "1. Elevate the injured limb above heart level for the first 2 days to minimize swelling.\n",
      "2. After 48 hours, apply heat (using a heating pad) for 15 to 20 minutes to relieve pain and speed healing.\n",
      "3. Immobilize the joints proximal and distal to the injury using elastic bandages or a cast, depending on the severity of the fracture and the length of immobilization required.\n",
      "4. For casted patients: keep the cast dry\n"
     ]
    }
   ],
   "source": [
    "user_input5 = \"What are the necessary precautions and treatment steps for a person who has fractured their leg during a hiking trip, and what should be considered for their care and recovery?\"\n",
    "print(generate_rag_response(user_input5))"
   ]
  },
  {
   "cell_type": "markdown",
   "metadata": {
    "id": "K7TYrqycEITB"
   },
   "source": [
    "### Fine-tuning"
   ]
  },
  {
   "cell_type": "markdown",
   "metadata": {
    "id": "qW0wNCrL80k4"
   },
   "source": [
    "### Query 1: What is the protocol for managing sepsis in a critical care unit?"
   ]
  },
  {
   "cell_type": "code",
   "execution_count": 57,
   "metadata": {
    "colab": {
     "base_uri": "https://localhost:8080/",
     "height": 52
    },
    "executionInfo": {
     "elapsed": 16038,
     "status": "ok",
     "timestamp": 1754804036927,
     "user": {
      "displayName": "Neha Mishra",
      "userId": "05638810250137303527"
     },
     "user_tz": 300
    },
    "id": "7UYBR-hcReSo",
    "outputId": "3193e615-8c73-4019-fbd1-f37173469553"
   },
   "outputs": [
    {
     "name": "stderr",
     "output_type": "stream",
     "text": [
      "Llama.generate: prefix-match hit\n"
     ]
    },
    {
     "data": {
      "application/vnd.google.colaboratory.intrinsic+json": {
       "type": "string"
      },
      "text/plain": [
       "\"I don't know. The context does not provide information on the protocol for managing sepsis in a critical care unit.\""
      ]
     },
     "execution_count": 57,
     "metadata": {},
     "output_type": "execute_result"
    }
   ],
   "source": [
    "user_input = \"What is the protocol for managing sepsis in a critical care unit?\"\n",
    "generate_rag_response(user_input, top_p=0.98, top_k=20, max_tokens=256)"
   ]
  },
  {
   "cell_type": "code",
   "execution_count": 59,
   "metadata": {
    "colab": {
     "base_uri": "https://localhost:8080/",
     "height": 52
    },
    "executionInfo": {
     "elapsed": 14104,
     "status": "ok",
     "timestamp": 1754804151889,
     "user": {
      "displayName": "Neha Mishra",
      "userId": "05638810250137303527"
     },
     "user_tz": 300
    },
    "id": "VSXrQaBvebQz",
    "outputId": "27446302-4ba8-4bb6-af24-944a18dd265c"
   },
   "outputs": [
    {
     "name": "stderr",
     "output_type": "stream",
     "text": [
      "Llama.generate: prefix-match hit\n"
     ]
    },
    {
     "data": {
      "application/vnd.google.colaboratory.intrinsic+json": {
       "type": "string"
      },
      "text/plain": [
       "\"I don't know. The context provided does not discuss the specific protocol for managing sepsis in a critical care unit.\""
      ]
     },
     "execution_count": 59,
     "metadata": {},
     "output_type": "execute_result"
    }
   ],
   "source": [
    "user_input = \"What is the protocol for managing sepsis in a critical care unit?\"\n",
    "generate_rag_response(user_input, top_p=0.98, top_k=20,temperature=0.9, max_tokens=256)"
   ]
  },
  {
   "cell_type": "markdown",
   "metadata": {
    "id": "7RsQtlZF82h4"
   },
   "source": [
    "### Query 2: What are the common symptoms for appendicitis, and can it be cured via medicine? If not, what surgical procedure should be followed to treat it?"
   ]
  },
  {
   "cell_type": "code",
   "execution_count": 58,
   "metadata": {
    "colab": {
     "base_uri": "https://localhost:8080/",
     "height": 70
    },
    "executionInfo": {
     "elapsed": 25214,
     "status": "ok",
     "timestamp": 1754804080858,
     "user": {
      "displayName": "Neha Mishra",
      "userId": "05638810250137303527"
     },
     "user_tz": 300
    },
    "id": "UxlAMKFBBPg9",
    "outputId": "6a063e91-13ad-431c-cd26-a573444b4c9a"
   },
   "outputs": [
    {
     "name": "stderr",
     "output_type": "stream",
     "text": [
      "Llama.generate: prefix-match hit\n"
     ]
    },
    {
     "data": {
      "application/vnd.google.colaboratory.intrinsic+json": {
       "type": "string"
      },
      "text/plain": [
       "'The common symptoms for appendicitis include pain in the lower right abdomen, loss of appetite, nausea or vomiting, fever, and a feeling of being sick. Appendicitis cannot be cured via medicine alone as it requires surgical removal of the appendix. The treatment for appendicitis is open or laparoscopic appendectomy.'"
      ]
     },
     "execution_count": 58,
     "metadata": {},
     "output_type": "execute_result"
    }
   ],
   "source": [
    "user_input2 = \"What are the common symptoms for appendicitis, and can it be cured via medicine? If not, what surgical procedure should be followed to treat it?\"\n",
    "generate_rag_response(user_input2, top_p=0.90, top_k=50, max_tokens=256)"
   ]
  },
  {
   "cell_type": "markdown",
   "metadata": {
    "id": "aqD2AmTH82zw"
   },
   "source": [
    "### Query 3: What are the effective treatments or solutions for addressing sudden patchy hair loss, commonly seen as localized bald spots on the scalp, and what could be the possible causes behind it?"
   ]
  },
  {
   "cell_type": "code",
   "execution_count": 60,
   "metadata": {
    "colab": {
     "base_uri": "https://localhost:8080/",
     "height": 105
    },
    "executionInfo": {
     "elapsed": 48595,
     "status": "ok",
     "timestamp": 1754804220914,
     "user": {
      "displayName": "Neha Mishra",
      "userId": "05638810250137303527"
     },
     "user_tz": 300
    },
    "id": "gL0BWcf6BWb1",
    "outputId": "e37a06e8-9107-4024-c24c-6c154e6c2031"
   },
   "outputs": [
    {
     "name": "stderr",
     "output_type": "stream",
     "text": [
      "Llama.generate: prefix-match hit\n"
     ]
    },
    {
     "data": {
      "application/vnd.google.colaboratory.intrinsic+json": {
       "type": "string"
      },
      "text/plain": [
       "\"Based on the context provided, the condition being described is Alopecia Areata. The context mentions that it is a sudden patchy hair loss in people with no obvious skin or systemic disorder. It also states that alopecia areata is thought to be an autoimmune disorder affecting genetically susceptible people exposed to unclear environmental triggers.\\n\\nThe effective treatments or solutions for addressing sudden patchy hair loss, as mentioned in the context, include corticosteroids, retinoids, or immunosuppressants. These medications are used to help reduce inflammation and suppress the immune system's attack on the hair follicles. However, it is important to note that these treatments may not work for everyone and their effectiveness can vary from person to person.\\n\\nTherefore, the answer to the user question would be: The effective treatments or solutions for addressing sudden patchy hair loss include corticosteroids, retinoids, or immunosuppressants. These medications are used to help reduce inflammation and suppress the immune system's attack on the hair follicles. However, their effectiveness can vary from person to person. The possible causes behind this condition are thought to be an autoimmune disorder affecting genetically susceptible people exposed to unclear environmental triggers.\""
      ]
     },
     "execution_count": 60,
     "metadata": {},
     "output_type": "execute_result"
    }
   ],
   "source": [
    "user_input3 = \"What are the effective treatments or solutions for addressing sudden patchy hair loss, commonly seen as localized bald spots on the scalp, and what could be the possible causes behind it?\"\n",
    "generate_rag_response(user_input3, top_p=0.98, top_k=20, max_tokens=512)"
   ]
  },
  {
   "cell_type": "markdown",
   "metadata": {
    "id": "gqGlichO83Dl"
   },
   "source": [
    "### Query 4:  What treatments are recommended for a person who has sustained a physical injury to brain tissue, resulting in temporary or permanent impairment of brain function?"
   ]
  },
  {
   "cell_type": "code",
   "execution_count": 61,
   "metadata": {
    "colab": {
     "base_uri": "https://localhost:8080/",
     "height": 87
    },
    "executionInfo": {
     "elapsed": 30311,
     "status": "ok",
     "timestamp": 1754804308898,
     "user": {
      "displayName": "Neha Mishra",
      "userId": "05638810250137303527"
     },
     "user_tz": 300
    },
    "id": "d202VkKJBcYI",
    "outputId": "c0198866-02ea-4cff-eab1-b63f0efb9937"
   },
   "outputs": [
    {
     "name": "stderr",
     "output_type": "stream",
     "text": [
      "Llama.generate: prefix-match hit\n"
     ]
    },
    {
     "data": {
      "application/vnd.google.colaboratory.intrinsic+json": {
       "type": "string"
      },
      "text/plain": [
       "'Answer: The initial treatment for a person with traumatic brain injury (TBI) includes ensuring a reliable airway and maintaining adequate ventilation, oxygenation, and blood pressure. Surgery may be needed in patients with more severe injuries to place monitors to track and treat intracranial pressure, decompress the brain if intracranial pressure is increased, or remove intracranial hematomas. In the first few days after the injury, maintaining adequate brain perfusion and oxygenation and preventing complications of altered sensorium are important. Subsequently, many patients require rehabilitation.'"
      ]
     },
     "execution_count": 61,
     "metadata": {},
     "output_type": "execute_result"
    }
   ],
   "source": [
    "user_input4 = \"What treatments are recommended for a person who has sustained a physical injury to brain tissue, resulting in temporary or permanent impairment of brain function?\"\n",
    "generate_rag_response(user_input4, top_p=0.98, top_k=20, max_tokens=1024)"
   ]
  },
  {
   "cell_type": "markdown",
   "metadata": {
    "id": "B7l_MJ9O83TL"
   },
   "source": [
    "### Query 5: What are the necessary precautions and treatment steps for a person who has fractured their leg during a hiking trip, and what should be considered for their care and recovery?"
   ]
  },
  {
   "cell_type": "code",
   "execution_count": 62,
   "metadata": {
    "colab": {
     "base_uri": "https://localhost:8080/",
     "height": 104
    },
    "executionInfo": {
     "elapsed": 39149,
     "status": "ok",
     "timestamp": 1754804354516,
     "user": {
      "displayName": "Neha Mishra",
      "userId": "05638810250137303527"
     },
     "user_tz": 300
    },
    "id": "nJuUl4elBirk",
    "outputId": "d5c0b276-10d1-44c4-c11e-a083526189e7"
   },
   "outputs": [
    {
     "name": "stderr",
     "output_type": "stream",
     "text": [
      "Llama.generate: prefix-match hit\n"
     ]
    },
    {
     "data": {
      "application/vnd.google.colaboratory.intrinsic+json": {
       "type": "string"
      },
      "text/plain": [
       "\"Based on the context provided, here's the answer:\\n1. Elevate the injured limb above heart level for the first 2 days to minimize swelling.\\n2. After 48 hours, apply heat (using a heating pad) for 15 to 20 minutes to relieve pain and speed healing.\\n3. Immobilize the joints proximal and distal to the injury using elastic bandages or a cast, depending on the severity of the fracture and the length of immobilization required.\\n4. For casted patients: keep the cast dry, never put an object inside it, inspect the edges and skin around the cast daily, and pad any rough edges with soft material to prevent irritation.\\n5. If severe swelling is likely, a cast may be bivalved (cut open) to allow for drainage and reduce pressure.\\n6. Follow-up care and rehabilitation as recommended by a healthcare professional.\""
      ]
     },
     "execution_count": 62,
     "metadata": {},
     "output_type": "execute_result"
    }
   ],
   "source": [
    "user_input5 = \"What are the necessary precautions and treatment steps for a person who has fractured their leg during a hiking trip, and what should be considered for their care and recovery?\"\n",
    "generate_rag_response(user_input5, max_tokens=256)"
   ]
  },
  {
   "cell_type": "markdown",
   "metadata": {
    "id": "yyQrTipNfuBN"
   },
   "source": [
    "## Output Evaluation"
   ]
  },
  {
   "cell_type": "markdown",
   "metadata": {
    "id": "HbXMSxqa-65E"
   },
   "source": [
    "Let us now use the LLM-as-a-judge method to check the quality of the RAG system on two parameters - retrieval and generation. We illustrate this evaluation based on the answeres generated to the question from the previous section.\n",
    "\n",
    "- We are using the same Mistral model for evaluation, so basically here the llm is rating itself on how well he has performed in the task."
   ]
  },
  {
   "cell_type": "code",
   "execution_count": 64,
   "metadata": {
    "executionInfo": {
     "elapsed": 51,
     "status": "ok",
     "timestamp": 1754804440436,
     "user": {
      "displayName": "Neha Mishra",
      "userId": "05638810250137303527"
     },
     "user_tz": 300
    },
    "id": "IHbfLAxAGdhW"
   },
   "outputs": [],
   "source": [
    "groundedness_rater_system_message  =  \"\"\"\n",
    "You are tasked with rating AI generated answers to medical questions posed by users.\n",
    "You will be presented a question, context used by the AI system to generate the answer and an AI generated answer to the question.\n",
    "In the input, the question will begin with ###Question, the context will begin with ###Context while the AI generated answer will begin with ###Answer.\n",
    "\n",
    "Evaluation criteria:\n",
    "The task is to judge the extent to which the metric is followed by the answer.\n",
    "1 - The metric is not followed at all\n",
    "2 - The metric is followed only to a limited extent\n",
    "3 - The metric is followed to a good extent\n",
    "4 - The metric is followed mostly\n",
    "5 - The metric is followed completely\n",
    "\n",
    "Metric:\n",
    "The answer should be derived only from the information presented in the context\n",
    "\n",
    "Instructions:\n",
    "1. First write down the steps that are needed to evaluate the answer as per the metric.\n",
    "2. Give a step-by-step explanation if the answer adheres to the metric considering the question and context as the input.\n",
    "3. Next, evaluate the extent to which the metric is followed.\n",
    "4. Use the previous information to rate the answer using the evaluaton criteria and assign a score.\n",
    "\"\"\""
   ]
  },
  {
   "cell_type": "code",
   "execution_count": 65,
   "metadata": {
    "executionInfo": {
     "elapsed": 17,
     "status": "ok",
     "timestamp": 1754804442561,
     "user": {
      "displayName": "Neha Mishra",
      "userId": "05638810250137303527"
     },
     "user_tz": 300
    },
    "id": "159OZZa0Rinv"
   },
   "outputs": [],
   "source": [
    "relevance_rater_system_message = \"\"\"\n",
    "You are tasked with rating AI generated answers to questions posed by users.\n",
    "You will be presented a question, context used by the AI system to generate the answer and an AI generated answer to the question.\n",
    "In the input, the question will begin with ###Question, the context will begin with ###Context while the AI generated answer will begin with ###Answer.\n",
    "\n",
    "Evaluation criteria:\n",
    "The task is to judge the extent to which the metric is followed by the answer.\n",
    "1 - The metric is not followed at all\n",
    "2 - The metric is followed only to a limited extent\n",
    "3 - The metric is followed to a good extent\n",
    "4 - The metric is followed mostly\n",
    "5 - The metric is followed completely\n",
    "\n",
    "Metric:\n",
    "Relevance measures how well the answer addresses the main aspects of the question, based on the context.\n",
    "Consider whether all and only the important aspects are contained in the answer when evaluating relevance.\n",
    "\n",
    "Instructions:\n",
    "1. First write down the steps that are needed to evaluate the context as per the metric.\n",
    "2. Give a step-by-step explanation if the context adheres to the metric considering the question as the input.\n",
    "3. Next, evaluate the extent to which the metric is followed.\n",
    "4. Use the previous information to rate the context using the evaluaton criteria and assign a score.\n",
    "\"\"\""
   ]
  },
  {
   "cell_type": "code",
   "execution_count": 66,
   "metadata": {
    "executionInfo": {
     "elapsed": 11,
     "status": "ok",
     "timestamp": 1754804445831,
     "user": {
      "displayName": "Neha Mishra",
      "userId": "05638810250137303527"
     },
     "user_tz": 300
    },
    "id": "RLqiSn-iRwSl"
   },
   "outputs": [],
   "source": [
    "user_message_template = \"\"\"\n",
    "###Question\n",
    "{question}\n",
    "\n",
    "###Context\n",
    "{context}\n",
    "\n",
    "###Answer\n",
    "{answer}\n",
    "\"\"\""
   ]
  },
  {
   "cell_type": "code",
   "execution_count": 73,
   "metadata": {
    "executionInfo": {
     "elapsed": 11,
     "status": "ok",
     "timestamp": 1754805503711,
     "user": {
      "displayName": "Neha Mishra",
      "userId": "05638810250137303527"
     },
     "user_tz": 300
    },
    "id": "XIbZybyuRi2p"
   },
   "outputs": [],
   "source": [
    "def generate_ground_relevance_response(user_input,k=3,max_tokens=512,temperature=0,top_p=0.95,top_k=50):\n",
    "    global qna_system_message,qna_user_message_template\n",
    "    # Retrieve relevant document chunks\n",
    "    relevant_document_chunks = retriever.get_relevant_documents(query=user_input,k=3)\n",
    "    context_list = [d.page_content for d in relevant_document_chunks]\n",
    "    context_for_query = \". \".join(context_list)\n",
    "\n",
    "    # Combine user_prompt and system_message to create the prompt\n",
    "    prompt = f\"\"\"[INST]{qna_system_message}\\n\n",
    "                {'user'}: {qna_user_message_template.format(context=context_for_query, question=user_input)}\n",
    "                [/INST]\"\"\"\n",
    "\n",
    "    response = llm(\n",
    "            prompt=prompt,\n",
    "            max_tokens=max_tokens,\n",
    "            temperature=temperature,\n",
    "            top_p=top_p,\n",
    "            top_k=top_k,\n",
    "            stop=['INST'],\n",
    "            )\n",
    "\n",
    "    answer =  response[\"choices\"][0][\"text\"]\n",
    "\n",
    "    # Combine user_prompt and system_message to create the prompt\n",
    "    groundedness_prompt = f\"\"\"[INST]{groundedness_rater_system_message}\\n\n",
    "                {'user'}: {user_message_template.format(context=context_for_query, question=user_input, answer=answer)}\n",
    "                [/INST]\"\"\"\n",
    "\n",
    "    # Combine user_prompt and system_message to create the prompt\n",
    "    relevance_prompt = f\"\"\"[INST]{relevance_rater_system_message}\\n\n",
    "                {'user'}: {user_message_template.format(context=context_for_query, question=user_input, answer=answer)}\n",
    "                [/INST]\"\"\"\n",
    "\n",
    "    response_1 = llm(\n",
    "            prompt=groundedness_prompt,\n",
    "            max_tokens=max_tokens,\n",
    "            temperature=temperature,\n",
    "            top_p=top_p,\n",
    "            top_k=top_k,\n",
    "            stop=['INST'],\n",
    "            )\n",
    "\n",
    "    response_2 = llm(\n",
    "            prompt=relevance_prompt,\n",
    "            max_tokens=max_tokens,\n",
    "            temperature=temperature,\n",
    "            top_p=top_p,\n",
    "            top_k=top_k,\n",
    "            stop=['INST'],\n",
    "            )\n",
    "\n",
    "    return response_1['choices'][0]['text'],response_2['choices'][0]['text']"
   ]
  },
  {
   "cell_type": "code",
   "execution_count": null,
   "metadata": {
    "id": "6G0GBroQjsov"
   },
   "outputs": [],
   "source": []
  },
  {
   "cell_type": "markdown",
   "metadata": {
    "id": "f6qxqyJLYA2x"
   },
   "source": [
    "### Query 1: What is the protocol for managing sepsis in a critical care unit?"
   ]
  },
  {
   "cell_type": "code",
   "execution_count": 74,
   "metadata": {
    "colab": {
     "base_uri": "https://localhost:8080/"
    },
    "executionInfo": {
     "elapsed": 94755,
     "status": "ok",
     "timestamp": 1754805603885,
     "user": {
      "displayName": "Neha Mishra",
      "userId": "05638810250137303527"
     },
     "user_tz": 300
    },
    "id": "ANzurSjuYA2x",
    "outputId": "97066ce7-4585-4ed7-ea68-0070c094a79c"
   },
   "outputs": [
    {
     "name": "stderr",
     "output_type": "stream",
     "text": [
      "Llama.generate: prefix-match hit\n",
      "Llama.generate: prefix-match hit\n",
      "Llama.generate: prefix-match hit\n"
     ]
    },
    {
     "name": "stdout",
     "output_type": "stream",
     "text": [
      " Steps to evaluate the answer:\n",
      "1. Identify if the answer is derived only from the information presented in the context.\n",
      "2. Check if the context contains any information related to the protocol for managing sepsis in a critical care unit.\n",
      "3. Compare the answer with the information available in the context to determine if the answer adheres to the metric.\n",
      "\n",
      "Explanation:\n",
      "The answer \"I don't know. The context provided does not mention any specific protocol for managing sepsis in a critical care unit\" is derived solely from the context as it acknowledges that no such information is present in the context. Therefore, the metric is followed completely.\n",
      "\n",
      "Rating:\n",
      "Based on the evaluation criteria, I would rate this answer as 5 (The metric is followed completely).\n",
      "\n",
      " Steps to evaluate the context as per the relevance metric:\n",
      "1. Identify the main aspects of the question, which are \"managing sepsis in a critical care unit\" and \"protocol.\"\n",
      "2. Search for information related to these aspects in the context.\n",
      "3. Determine if all important aspects are contained in the context and if any irrelevant information is present.\n",
      "\n",
      "The context does not mention any specific protocol for managing sepsis in a critical care unit, so it only partially addresses the main aspects of the question. The relevance metric is followed to a limited extent.\n",
      "\n",
      "Rating: 2 (The metric is followed only to a limited extent)\n"
     ]
    }
   ],
   "source": [
    "user_input = \"What is the protocol for managing sepsis in a critical care unit?\"\n",
    "ground,rel = generate_ground_relevance_response(user_input,max_tokens=350)\n",
    "\n",
    "print(ground,end=\"\\n\\n\")\n",
    "print(rel)"
   ]
  },
  {
   "cell_type": "markdown",
   "metadata": {
    "id": "7A60Q6x3YA2y"
   },
   "source": [
    "### Query 2: What are the common symptoms for appendicitis, and can it be cured via medicine? If not, what surgical procedure should be followed to treat it?"
   ]
  },
  {
   "cell_type": "code",
   "execution_count": 75,
   "metadata": {
    "colab": {
     "base_uri": "https://localhost:8080/"
    },
    "executionInfo": {
     "elapsed": 130981,
     "status": "ok",
     "timestamp": 1754805769111,
     "user": {
      "displayName": "Neha Mishra",
      "userId": "05638810250137303527"
     },
     "user_tz": 300
    },
    "id": "LOZQyoLwYA2y",
    "outputId": "ee0e2cc5-0cbb-4579-d7ce-71443ee2b166"
   },
   "outputs": [
    {
     "name": "stderr",
     "output_type": "stream",
     "text": [
      "Llama.generate: prefix-match hit\n",
      "Llama.generate: prefix-match hit\n",
      "Llama.generate: prefix-match hit\n"
     ]
    },
    {
     "name": "stdout",
     "output_type": "stream",
     "text": [
      " Steps to evaluate the answer:\n",
      "1. Identify the information in the context related to appendicitis symptoms and treatment.\n",
      "2. Check if the answer only includes the information from the context.\n",
      "3. Evaluate the extent to which the answer adheres to the metric.\n",
      "\n",
      "The answer \"Common symptoms for appendicitis include pain in the lower right abdomen, loss of appetite, nausea, vomiting, fever, and a feeling of being sick. Appendicitis cannot be cured via medicine alone, and treatment involves surgical removal of the appendix through open or laparoscopic appendectomy\" adheres to the metric as it is derived only from the information presented in the context. The symptoms listed are directly mentioned in the context, and the statement that treatment involves surgery is also stated in the context. Therefore, the answer follows the metric completely.\n",
      "\n",
      "Rating: 5 (The metric is followed completely)\n",
      "\n",
      " Steps to evaluate the context as per the relevance metric:\n",
      "1. Identify the main aspects of the question: common symptoms for appendicitis and whether it can be cured via medicine.\n",
      "2. Determine if the context contains information related to both aspects.\n",
      "3. Check if all important aspects are included in the context and if any irrelevant information is present.\n",
      "\n",
      "The context adheres to the metric considering the question as follows:\n",
      "1. The context mentions common symptoms for appendicitis, such as pain in the lower right abdomen, loss of appetite, nausea, vomiting, fever, and a feeling of being sick.\n",
      "2. It also states that treatment for appendicitis cannot be cured via medicine alone and requires surgical removal of the appendix through open or laparoscopic appendectomy.\n",
      "3. The context does not contain any irrelevant information regarding hernias of the abdominal wall, which is not related to the question.\n",
      "\n",
      "The metric is followed mostly as the context includes all important aspects of the question and no irrelevant information is present.\n",
      "\n",
      "Rating: 4 (The metric is followed mostly)\n"
     ]
    }
   ],
   "source": [
    "user_input2 = \"What are the common symptoms for appendicitis, and can it be cured via medicine? If not, what surgical procedure should be followed to treat it?\"\n",
    "ground,rel = generate_ground_relevance_response(user_input2,max_tokens=350)\n",
    "\n",
    "print(ground,end=\"\\n\\n\")\n",
    "print(rel)"
   ]
  },
  {
   "cell_type": "markdown",
   "metadata": {
    "id": "ZmYnriTdYA2z"
   },
   "source": [
    "### Query 3: What are the effective treatments or solutions for addressing sudden patchy hair loss, commonly seen as localized bald spots on the scalp, and what could be the possible causes behind it?"
   ]
  },
  {
   "cell_type": "code",
   "execution_count": 70,
   "metadata": {
    "colab": {
     "base_uri": "https://localhost:8080/"
    },
    "executionInfo": {
     "elapsed": 127847,
     "status": "ok",
     "timestamp": 1754804905334,
     "user": {
      "displayName": "Neha Mishra",
      "userId": "05638810250137303527"
     },
     "user_tz": 300
    },
    "id": "Qp898M2iYA2z",
    "outputId": "fbfd56ad-d2c2-47db-ef73-97896df2e2b6"
   },
   "outputs": [
    {
     "name": "stderr",
     "output_type": "stream",
     "text": [
      "Llama.generate: prefix-match hit\n",
      "Llama.generate: prefix-match hit\n",
      "Llama.generate: prefix-match hit\n"
     ]
    },
    {
     "name": "stdout",
     "output_type": "stream",
     "text": [
      " Steps to evaluate the answer:\n",
      "1. Identify the information directly related to the question in the context.\n",
      "2. Determine if the AI generated answer only uses information from the identified parts of the context.\n",
      "3. Evaluate the extent to which the answer adheres to the metric.\n",
      "\n",
      "Explanation:\n",
      "The question asks about effective treatments and possible causes for sudden patchy hair loss, specifically mentioning alopecia areata as a potential condition. The context provides information on alopecia areata, its causes, and treatment options.\n",
      "\n",
      "The AI generated answer mentions that alopecia areata is a condition characterized by sudden patchy hair loss, and the cause is believed to be an autoimmune disorder affecting genetically susceptible people exposed to unclear environmental triggers. It also states that treatment options include corticosteroids, retinoids, or immunosuppressants.\n",
      "\n",
      "The answer only uses information directly related to alopecia areata and its causes and treatments from the context. Therefore, it adheres to the metric.\n",
      "\n",
      "Rating:\n",
      "Based on the evaluation criteria, I would rate this answer as a 5 because it follows the metric completely by deriving all the information in the answer solely from the context provided.\n",
      "\n",
      " Steps to evaluate the context as per the relevance metric:\n",
      "1. Identify the main aspects of the question: effective treatments or solutions for addressing sudden patchy hair loss and possible causes behind it.\n",
      "2. Determine if the context provides information on these main aspects.\n",
      "3. Check if all important aspects are contained in the context and if any irrelevant information is present.\n",
      "\n",
      "The context adheres to the relevance metric considering the question as the input because:\n",
      "1. The context mentions alopecia areata, which is a condition characterized by sudden patchy hair loss.\n",
      "2. It explains that the cause of alopecia areata is believed to be an autoimmune disorder affecting genetically susceptible people exposed to unclear environmental triggers.\n",
      "3. The context provides information on treatment options for alopecia areata, which include corticosteroids, retinoids, or immunosuppressants. These medications can help promote hair regrowth and reduce inflammation in the affected areas.\n",
      "4. The context does not contain any irrelevant information that is not related to the main aspects of the question.\n",
      "\n",
      "The metric is followed mostly because all important aspects are contained in the context, and there is no irrelevant information present.\n",
      "\n",
      "Rating: 4 (The metric is followed mostly)\n"
     ]
    }
   ],
   "source": [
    "user_input3 = \"What are the effective treatments or solutions for addressing sudden patchy hair loss, commonly seen as localized bald spots on the scalp, and what could be the possible causes behind it?\"\n",
    "ground,rel = generate_ground_relevance_response(user_input3,max_tokens=350)\n",
    "\n",
    "print(ground,end=\"\\n\\n\")\n",
    "print(rel)"
   ]
  },
  {
   "cell_type": "markdown",
   "metadata": {
    "id": "jz-lGsVxYA2z"
   },
   "source": [
    "### Query 4: What treatments are recommended for a person who has sustained a physical injury to brain tissue, resulting in temporary or permanent impairment of brain function?"
   ]
  },
  {
   "cell_type": "code",
   "execution_count": 71,
   "metadata": {
    "colab": {
     "base_uri": "https://localhost:8080/"
    },
    "executionInfo": {
     "elapsed": 149020,
     "status": "ok",
     "timestamp": 1754805062111,
     "user": {
      "displayName": "Neha Mishra",
      "userId": "05638810250137303527"
     },
     "user_tz": 300
    },
    "id": "gBRTYnFVYA2z",
    "outputId": "e1de3658-8d3e-4deb-a700-c575b665f3a7"
   },
   "outputs": [
    {
     "name": "stderr",
     "output_type": "stream",
     "text": [
      "Llama.generate: prefix-match hit\n",
      "Llama.generate: prefix-match hit\n",
      "Llama.generate: prefix-match hit\n"
     ]
    },
    {
     "name": "stdout",
     "output_type": "stream",
     "text": [
      " Steps to evaluate the answer:\n",
      "1. Identify the key information in the context related to treatments for traumatic brain injury (TBI).\n",
      "2. Compare the identified information with the AI generated answer to check if the answer is derived only from the context.\n",
      "3. Evaluate the extent to which the metric is followed.\n",
      "\n",
      "Explanation:\n",
      "The context provides detailed information about the initial treatment for a person with TBI, including ensuring a reliable airway, maintaining adequate ventilation, oxygenation, and blood pressure, and the possible need for surgery in more severe cases. The AI generated answer matches this information exactly, stating that the initial treatment includes these steps and possibly surgery for more severe injuries. Therefore, the metric is followed completely as the answer is derived solely from the context.\n",
      "\n",
      "Rating:\n",
      "5 - The metric is followed completely.\n",
      "\n",
      " Steps to evaluate the context as per the relevance metric:\n",
      "1. Identify the main aspects of the question: The question asks about treatments for a person with a brain injury that results in temporary or permanent impairment of brain function.\n",
      "2. Determine if the context discusses the main aspects: The context provides information about traumatic brain injuries, their causes, diagnosis, initial treatment, and subsequent rehabilitation. It mentions that initial treatment includes ensuring a reliable airway, maintaining adequate ventilation, oxygenation, and blood pressure, as well as possible surgery for more severe injuries to treat intracranial pressure or hematomas. The context also mentions the importance of preventing complications in the first few days and rehabilitation afterwards.\n",
      "3. Evaluate if all important aspects are contained in the answer: Yes, the answer contains all the important aspects from the question. It addresses the treatments for a person with a brain injury, specifically mentioning the initial treatment steps of ensuring a reliable airway, maintaining adequate ventilation, oxygenation, and blood pressure, as well as possible surgery for more severe injuries.\n",
      "4. Rate the context based on the relevance metric: 5 - The metric is followed completely.\n",
      "\n",
      "The answer is relevant to the question as it covers all the important aspects of the question, which are ensuring a reliable airway, maintaining adequate ventilation, oxygenation, and blood pressure, and possible surgery for more severe injuries.\n"
     ]
    }
   ],
   "source": [
    "user_input4 = \"What treatments are recommended for a person who has sustained a physical injury to brain tissue, resulting in temporary or permanent impairment of brain function?\"\n",
    "ground,rel = generate_ground_relevance_response(user_input4,max_tokens=350)\n",
    "\n",
    "print(ground,end=\"\\n\\n\")\n",
    "print(rel)"
   ]
  },
  {
   "cell_type": "markdown",
   "metadata": {
    "id": "x2WxSxzDYA2z"
   },
   "source": [
    "### Query 5: What are the necessary precautions and treatment steps for a person who has fractured their leg during a hiking trip, and what should be considered for their care and recovery?"
   ]
  },
  {
   "cell_type": "code",
   "execution_count": 72,
   "metadata": {
    "colab": {
     "base_uri": "https://localhost:8080/"
    },
    "executionInfo": {
     "elapsed": 124513,
     "status": "ok",
     "timestamp": 1754805191136,
     "user": {
      "displayName": "Neha Mishra",
      "userId": "05638810250137303527"
     },
     "user_tz": 300
    },
    "id": "mKCq09_YYA20",
    "outputId": "317693fe-f047-4f4e-982a-8e981ddf0f74"
   },
   "outputs": [
    {
     "name": "stderr",
     "output_type": "stream",
     "text": [
      "Llama.generate: prefix-match hit\n",
      "Llama.generate: prefix-match hit\n",
      "Llama.generate: prefix-match hit\n"
     ]
    },
    {
     "name": "stdout",
     "output_type": "stream",
     "text": [
      " Steps to evaluate the answer:\n",
      "1. Identify the information in the context that relates to the necessary precautions and treatment steps for a person with a fractured leg.\n",
      "2. Determine if the AI generated answer includes all the necessary precautions and treatment steps identified in step 1.\n",
      "3. Check if the information in the AI generated answer is derived only from the context provided.\n",
      "\n",
      "The AI generated answer adheres to the metric as it includes all the necessary precautions and treatment steps for a person with a fractured leg, which are clearly stated in the context. The answer is also derived directly from the context without introducing any new information or assumptions. Therefore, the metric is followed completely.\n",
      "\n",
      "Rating: 5 (The metric is followed completely)\n",
      "\n",
      " Steps to evaluate the context as per the relevance metric:\n",
      "1. Identify the main aspects of the question: necessary precautions and treatment steps for a person with a fractured leg, and what should be considered for their care and recovery.\n",
      "2. Determine if each piece of information in the context addresses these main aspects.\n",
      "3. Check if all important aspects are included in the context and only irrelevant information is excluded.\n",
      "\n",
      "The context adheres to the metric considering the question as input because:\n",
      "1. The context provides necessary precautions such as elevating the injured limb above heart level for the first two days, applying warmth with a heating pad after 48 hours, and immobilizing joints proximal and distal to the injury.\n",
      "2. It also mentions treatment steps like using a cast for injuries requiring weeks of immobilization and instructions for patients with casts such as keeping it dry, never putting objects inside it, inspecting edges and skin around the cast daily, and padding rough edges.\n",
      "3. All important aspects are included in the context, and only relevant information is provided.\n",
      "\n",
      "The metric is followed completely.\n",
      "\n",
      "Therefore, based on the evaluation criteria:\n",
      "1 - The metric is not followed at all: 1\n",
      "2 - The metric is followed only to a limited extent: 2\n",
      "3 - The metric is followed to a good extent: 3\n",
      "4 - The metric is followed mostly: 4\n",
      "5 - The metric is followed completely: 5\n",
      "\n",
      "The context receives a score of 5.\n"
     ]
    }
   ],
   "source": [
    "user_input5 = \"What are the necessary precautions and treatment steps for a person who has fractured their leg during a hiking trip, and what should be considered for their care and recovery?\"\n",
    "ground,rel = generate_ground_relevance_response(user_input5,max_tokens=350)\n",
    "\n",
    "print(ground,end=\"\\n\\n\")\n",
    "print(rel)"
   ]
  },
  {
   "cell_type": "markdown",
   "metadata": {
    "id": "Y7QICRU-njdj"
   },
   "source": [
    "## Actionable Insights and Business Recommendations"
   ]
  },
  {
   "cell_type": "markdown",
   "metadata": {
    "id": "qnIvARzXilWS"
   },
   "source": [
    "#Insights:\n",
    "\n",
    "Maximum token has played a critical role in completness of the response as the response were non creative and focused on facts. Even in case of smaller queries a lower token size has incomplete answer.\n",
    "\n",
    "Vector database creation time increases with the number of pages in the PDF document.\n",
    "\n",
    "Retrieval parameter k is critical as the answer can be spread across multiple contexts. Lesser value can effect the roundness of the answer.\n",
    "\n",
    "chunk_overlap ensures coherence, especially when context spans across chunks.\n",
    "\n",
    "Temperature setting should be kept to minimum as the context is medical analysis of various conditions, sysmptoms and appropriate treatment.\n",
    "\n",
    "#Business Recommendation:\n",
    "\n",
    "####Contexual relevance:\n",
    "Experimented with contextual size and with not much difference in text, selected k=3. For the relevance of medical information it's important that continuity of text will not suffer due to lower context size.\n",
    "\n",
    "####Maintain High groundness:\n",
    "\n",
    "The model achieved a full score in groundness due to strict prompting. Medical condition not present in the contextual text is not answered as specified in the prompt.\n",
    "\n",
    "####Optimize Embeddings for domain specific accuracy:\n",
    "\n",
    "By specifying context specific system messages the results can be refined based on the data provided.\n",
    "\n",
    "####Continuos Knowledge update:\n",
    "\n",
    "Picking the latest model is necessary to include the latest medical research and guidlines ensuring the model remains accurate and relevant.\n",
    "\n",
    "\n",
    "\n",
    "\n",
    "\n",
    "\n"
   ]
  },
  {
   "cell_type": "markdown",
   "metadata": {
    "id": "ybRlzaIhWaM9"
   },
   "source": []
  }
 ],
 "metadata": {
  "accelerator": "GPU",
  "colab": {
   "collapsed_sections": [
    "K7TYrqycEITB"
   ],
   "gpuType": "T4",
   "provenance": []
  },
  "kernel_info": {
   "name": "python310-sdkv2"
  },
  "kernelspec": {
   "display_name": "Python 3",
   "name": "python3"
  },
  "language_info": {
   "name": "python"
  },
  "microsoft": {
   "host": {
    "AzureML": {
     "notebookHasBeenCompleted": true
    }
   },
   "ms_spell_check": {
    "ms_spell_check_language": "en"
   }
  },
  "nteract": {
   "version": "nteract-front-end@1.0.0"
  }
 },
 "nbformat": 4,
 "nbformat_minor": 0
}
